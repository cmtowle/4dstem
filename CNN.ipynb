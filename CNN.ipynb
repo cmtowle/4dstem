{
  "nbformat": 4,
  "nbformat_minor": 0,
  "metadata": {
    "colab": {
      "name": "CNN.ipynb",
      "provenance": [],
      "toc_visible": true,
      "include_colab_link": true
    },
    "kernelspec": {
      "name": "python2",
      "display_name": "Python 2"
    },
    "accelerator": "GPU"
  },
  "cells": [
    {
      "cell_type": "markdown",
      "metadata": {
        "id": "view-in-github",
        "colab_type": "text"
      },
      "source": [
        "<a href=\"https://colab.research.google.com/github/cmtowle/4dstem/blob/main/CNN.ipynb\" target=\"_parent\"><img src=\"https://colab.research.google.com/assets/colab-badge.svg\" alt=\"Open In Colab\"/></a>"
      ]
    },
    {
      "cell_type": "markdown",
      "metadata": {
        "id": "bZzPpXFstIMW"
      },
      "source": [
        "## Installing relevant packages"
      ]
    },
    {
      "cell_type": "code",
      "metadata": {
        "id": "B1suY_1mtSoS",
        "colab": {
          "base_uri": "https://localhost:8080/",
          "height": 272
        },
        "outputId": "eb105cef-27ed-41e3-bc12-9aab1ff57013"
      },
      "source": [
        "!pip install tifffile PyDrive"
      ],
      "execution_count": null,
      "outputs": [
        {
          "output_type": "stream",
          "text": [
            "Requirement already satisfied: tifffile in /usr/local/lib/python2.7/dist-packages (0.15.1)\n",
            "Requirement already satisfied: PyDrive in /usr/local/lib/python2.7/dist-packages (1.3.1)\n",
            "Requirement already satisfied: numpy>=1.8.2 in /usr/local/lib/python2.7/dist-packages (from tifffile) (1.14.6)\n",
            "Requirement already satisfied: enum34; python_version < \"3.0\" in /usr/local/lib/python2.7/dist-packages (from tifffile) (1.1.6)\n",
            "Requirement already satisfied: pathlib; python_version < \"3.0\" in /usr/local/lib/python2.7/dist-packages (from tifffile) (1.0.1)\n",
            "Requirement already satisfied: futures; python_version == \"2.7\" in /usr/local/lib/python2.7/dist-packages (from tifffile) (3.2.0)\n",
            "Requirement already satisfied: PyYAML>=3.0 in /usr/local/lib/python2.7/dist-packages (from PyDrive) (3.13)\n",
            "Requirement already satisfied: oauth2client>=4.0.0 in /usr/local/lib/python2.7/dist-packages (from PyDrive) (4.1.3)\n",
            "Requirement already satisfied: google-api-python-client>=1.2 in /usr/local/lib/python2.7/dist-packages (from PyDrive) (1.6.7)\n",
            "Requirement already satisfied: httplib2>=0.9.1 in /usr/local/lib/python2.7/dist-packages (from oauth2client>=4.0.0->PyDrive) (0.11.3)\n",
            "Requirement already satisfied: rsa>=3.1.4 in /usr/local/lib/python2.7/dist-packages (from oauth2client>=4.0.0->PyDrive) (4.0)\n",
            "Requirement already satisfied: pyasn1>=0.1.7 in /usr/local/lib/python2.7/dist-packages (from oauth2client>=4.0.0->PyDrive) (0.4.4)\n",
            "Requirement already satisfied: pyasn1-modules>=0.0.5 in /usr/local/lib/python2.7/dist-packages (from oauth2client>=4.0.0->PyDrive) (0.2.2)\n",
            "Requirement already satisfied: six>=1.6.1 in /usr/local/lib/python2.7/dist-packages (from oauth2client>=4.0.0->PyDrive) (1.11.0)\n",
            "Requirement already satisfied: uritemplate<4dev,>=3.0.0 in /usr/local/lib/python2.7/dist-packages (from google-api-python-client>=1.2->PyDrive) (3.0.0)\n"
          ],
          "name": "stdout"
        }
      ]
    },
    {
      "cell_type": "markdown",
      "metadata": {
        "id": "1XsrLsGctZC0"
      },
      "source": [
        "## Importing the packages"
      ]
    },
    {
      "cell_type": "code",
      "metadata": {
        "id": "X3YKMRvCnceq"
      },
      "source": [
        "# Machine Learning / Image related\n",
        "\n",
        "import keras\n",
        "from keras.datasets import mnist\n",
        "from keras.layers import Dense, Flatten\n",
        "from keras.layers import Conv2D, MaxPooling2D\n",
        "from keras.models import Sequential\n",
        "\n",
        "from collections import defaultdict, Counter\n",
        "\n",
        "import matplotlib.pylab as plt\n",
        "import numpy as np\n",
        "import tifffile\n",
        "import glob\n",
        "import scipy\n",
        "import random\n",
        "\n",
        "# Navigating files\n",
        "import os\n",
        "from pydrive.auth import GoogleAuth\n",
        "from pydrive.drive import GoogleDrive\n",
        "from google.colab import auth\n",
        "from oauth2client.client import GoogleCredentials"
      ],
      "execution_count": null,
      "outputs": []
    },
    {
      "cell_type": "code",
      "metadata": {
        "id": "u76e9bUWulCy"
      },
      "source": [
        "gdrive_folder_to_os_folder = {\n",
        "    '1LBDez0jomVY80vBEVyfvfcHtdGLlfcI4': 'mos2_001',\n",
        "    '1Zun1kEOw7WPkWRouU74-AEMHb36uCcLf': 'au_111',\n",
        "    '1F_iOrTSWq_nJdzlJuV4hfSfmnbu0QlQL': 'au_211'\n",
        "}"
      ],
      "execution_count": null,
      "outputs": []
    },
    {
      "cell_type": "code",
      "metadata": {
        "id": "iHk_pNWfuKoY"
      },
      "source": [
        "def authenticate_and_download(folder_map=gdrive_folder_to_os_folder):\n",
        "  auth.authenticate_user()\n",
        "  gauth = GoogleAuth()\n",
        "  gauth.credentials = GoogleCredentials.get_application_default()\n",
        "  drive = GoogleDrive(gauth)\n",
        "  \n",
        "  for g_folder, os_folder in folder_map.iteritems():\n",
        "    print 'Google folder id: %s' %g_folder\n",
        "    os_folder_path = '~/' + os_folder\n",
        "    print 'OS folder: %s' %os_folder\n",
        "    local_download_path = os.path.expanduser(os_folder_path)\n",
        "    try:\n",
        "      os.makedirs(local_download_path)\n",
        "    except: pass\n",
        "\n",
        "    file_list = drive.ListFile(\n",
        "      {'q': \"'%s' in parents\"%g_folder}).GetList()\n",
        "    \n",
        "    print 'Number of files found: %d' %len(file_list)\n",
        "\n",
        "    for i, f in enumerate(file_list):\n",
        "      if (i + 1)%100 == 0:\n",
        "        print '%dth image reached' %(i+1)\n",
        "      # 3. Create & download by id.\n",
        "        print('title: %s, id: %s' % (f['title'], f['id']))\n",
        "      fname = os.path.join(local_download_path, f['title'])\n",
        "      if os.path.isfile(fname):\n",
        "        continue\n",
        "      if (i + 1)%100 == 0:\n",
        "        print('downloading to {}'.format(fname))\n",
        "      f_ = drive.CreateFile({'id': f['id']})\n",
        "      f_.GetContentFile(fname)"
      ],
      "execution_count": null,
      "outputs": []
    },
    {
      "cell_type": "code",
      "metadata": {
        "id": "92Hnvk7-wGME",
        "colab": {
          "base_uri": "https://localhost:8080/",
          "height": 4893
        },
        "outputId": "2c3d5093-0ed6-48e4-b172-0b340ff7328f"
      },
      "source": [
        "authenticate_and_download()"
      ],
      "execution_count": null,
      "outputs": [
        {
          "output_type": "stream",
          "text": [
            "Google folder id: 1LBDez0jomVY80vBEVyfvfcHtdGLlfcI4\n",
            "OS folder: mos2_001\n",
            "Number of files found: 5574\n",
            "100th image reached\n",
            "title: trainingSet3_04974.tif, id: 1yIyko5tvUsCjnbYcKpCqAIAlbH6JpiJP\n",
            "200th image reached\n",
            "title: trainingSet3_04875.tif, id: 1Hbsy-EFLtWxupVvm527HKXEALybKu3eS\n",
            "300th image reached\n",
            "title: trainingSet3_04775.tif, id: 1dM1i-PL1oP4l9xdfx0m3m9S3ZLSvFUqR\n",
            "400th image reached\n",
            "title: trainingSet3_04676.tif, id: 10TCcOAVO1dzvd2dZWmhD06UajNH-C27p\n",
            "500th image reached\n",
            "title: trainingSet3_04574.tif, id: 1r1zA107X1QUC81B-ORM1wzTTVUdsq-_8\n",
            "600th image reached\n",
            "title: trainingSet3_04474.tif, id: 1NUKINqYTjxwt59LsY_TrGdOlnjw4y7tP\n",
            "700th image reached\n",
            "title: trainingSet3_04375.tif, id: 1DFg-4BROOoCa6cTi15JZ3XwtADAtIDnl\n",
            "800th image reached\n",
            "title: trainingSet3_04274.tif, id: 1hcbHNkFMAPgeGtznCnc8Wo_PCqHov-tX\n",
            "900th image reached\n",
            "title: trainingSet3_04175.tif, id: 13V0-S4_0PX4e9K6TRo7mM00xBW84tFIe\n",
            "1000th image reached\n",
            "title: trainingSet3_04077.tif, id: 1Ql6aThYsf3yE9eb7RUCYSoYoW9Zl8MdU\n",
            "1100th image reached\n",
            "title: trainingSet3_03975.tif, id: 1IJKdtKWvnwT_XcgnnEwPHz_fjyGMmdX9\n",
            "1200th image reached\n",
            "title: trainingSet3_03875.tif, id: 1p4wN08S7-69u481qliDcqwTE8X_XIUDV\n",
            "1300th image reached\n",
            "title: trainingSet3_03774.tif, id: 1ylD2SbOmiK29wm9S8pEIep61k_TNYz9M\n",
            "1400th image reached\n",
            "title: trainingSet3_03674.tif, id: 18gNPVcokBA53i3pHE9OO_O0yZJ38H6Rz\n",
            "1500th image reached\n",
            "title: trainingSet3_03574.tif, id: 1xkVOoSmxaqyVZA0K_OM613X5OIxNCUfl\n",
            "1600th image reached\n",
            "title: trainingSet3_03474.tif, id: 1apsI3v41qoU0E6l12xuTwDN7VNaiOo4S\n",
            "1700th image reached\n",
            "title: trainingSet3_03372.tif, id: 1H-M2P2vyh8yuEFik770ruoGP0AXVr7GO\n",
            "1800th image reached\n",
            "title: trainingSet3_03274.tif, id: 1_xPGv5B9tPn_gAvh_98JWGJtfLjPzX-6\n",
            "1900th image reached\n",
            "title: trainingSet3_03177.tif, id: 1IK_0MhTneaTgFMMuWZ_YLuxcJvWatH7z\n",
            "2000th image reached\n",
            "title: trainingSet3_03075.tif, id: 1g5rI4H-hqtzTAbkpxLN3Y6e-DbdThITB\n",
            "2100th image reached\n",
            "title: trainingSet3_02974.tif, id: 1IKfGkkZLnsTAYBrdYrF8Mqpz1yD8g_H2\n",
            "2200th image reached\n",
            "title: trainingSet3_02876.tif, id: 1iYk_4nUlrP2kyaGzW0bqSIN3R5DCHETI\n",
            "2300th image reached\n",
            "title: trainingSet3_02775.tif, id: 1bR81HzCWN52XZ9YquaCgaOKU9Pp-xdDi\n",
            "2400th image reached\n",
            "title: trainingSet3_02675.tif, id: 1o_ND2egk_5RGV7okDDlEn4-vZiZVeCCa\n",
            "2500th image reached\n",
            "title: trainingSet3_02575.tif, id: 1UYrA-F8SNJ5BVa-EvC0fejzDMbpWFvk6\n",
            "2600th image reached\n",
            "title: trainingSet3_02474.tif, id: 1hUpGjpsMRQ-Q393KdNCp5hEnSUgILLmw\n",
            "2700th image reached\n",
            "title: trainingSet3_02373.tif, id: 1gbfgzgSRlDPeVJvE0KSUz72PAL1xkAAW\n",
            "2800th image reached\n",
            "title: trainingSet3_02276.tif, id: 1yyH6M4ZTEM9ADlV5RVf0Ewgsq4Ihcrx6\n",
            "2900th image reached\n",
            "title: trainingSet3_02177.tif, id: 1_d2DdP0zMh8aLIPrtaAXvfdmjZfRJWfy\n",
            "3000th image reached\n",
            "title: trainingSet3_02077.tif, id: 1qNgJx3yt09aRQYdwnTvl7TzyUnI8Cled\n",
            "3100th image reached\n",
            "title: trainingSet3_01975.tif, id: 1KhoNbvSvheLp1FTlQSMQc961zL3raFJ8\n",
            "3200th image reached\n",
            "title: trainingSet3_01875.tif, id: 155hRePUfBxLwuEyRuuPSiXcbaJDIUQPE\n",
            "3300th image reached\n",
            "title: trainingSet3_01775.tif, id: 1CoHjj-Zq5rfkU-344TlTs4MdtvySdcgH\n",
            "3400th image reached\n",
            "title: trainingSet3_01673.tif, id: 1IZXeb_1-rPfAPyHFDkgQK2cXTEspFAdj\n",
            "3500th image reached\n",
            "title: trainingSet3_01574.tif, id: 1gcOoR0PHhSZODm9hE3OrSVIwqBf7ZB5X\n",
            "3600th image reached\n",
            "title: trainingSet3_01476.tif, id: 1dMFHgyg7hL2tU4FupssZUfYcWXGpVl6v\n",
            "3700th image reached\n",
            "title: trainingSet3_01374.tif, id: 1txjgAmlG3xwkgET5hSBh0YNxg02_GcMs\n",
            "3800th image reached\n",
            "title: trainingSet3_01276.tif, id: 1eLPOcNjNh_r7qdzvplO2lOt8ct2zCIAN\n",
            "3900th image reached\n",
            "title: trainingSet3_01175.tif, id: 1LGhMaD4vAPolpObugi4MwjXi0XKm00-f\n",
            "4000th image reached\n",
            "title: trainingSet3_01075.tif, id: 11-h4BV8ixOsCfWVj1jdh3pGAR7SvxFFp\n",
            "4100th image reached\n",
            "title: trainingSet3_00974.tif, id: 14ngU4ncD6WZl0-bqmZlXorxBvADCqM5D\n",
            "4200th image reached\n",
            "title: trainingSet3_00876.tif, id: 1t_nU1z87dWl_SUlurZXcbHsfdEeXjElk\n",
            "4300th image reached\n",
            "title: trainingSet3_00775.tif, id: 1JjQBaQPK6wXsvX1-FOd2-2Z63NCFN8xB\n",
            "4400th image reached\n",
            "title: trainingSet3_00676.tif, id: 1TZ2a61L2J5Og-MxBqj1UDUJXhtzYA0q0\n",
            "4500th image reached\n",
            "title: trainingSet3_00576.tif, id: 1jY__PUvG9puzQBAKgZ8as1bhUyugixWG\n",
            "4600th image reached\n",
            "title: trainingSet3_00477.tif, id: 16Lwc1Dq0X5_lxQ2Gor8uw-JsLvXfJDs_\n",
            "4700th image reached\n",
            "title: trainingSet3_00374.tif, id: 15XjDVdUQIi_XIq41dY5LVXSliXMcuPMy\n",
            "4800th image reached\n",
            "title: trainingSet3_00277.tif, id: 1e6_xMzgYM2-8__K_pcH3iIWVxe3Kjd6e\n",
            "4900th image reached\n",
            "title: trainingSet3_00177.tif, id: 1EGZevhrF67DVfQQtyPAz7TqdGnmm38TI\n",
            "5000th image reached\n",
            "title: trainingSet3_00074.tif, id: 1xaY96nXlPBGwcbTUQy6a04p2K8Nv6Le-\n",
            "5100th image reached\n",
            "title: trainingSet2_0473.tif, id: 1zmYdWNtjrDqKjzF-Fwtdfa3Ddaa2Uu32\n",
            "5200th image reached\n",
            "title: trainingSet2_0382.tif, id: 1rvLW0CWsNi0YNhUNFt7WNBZ2jxGMSQRa\n",
            "5300th image reached\n",
            "title: trainingSet2_0276.tif, id: 1iViUV-w_D6sqkXLixoex7oGfFq8yDDN8\n",
            "5400th image reached\n",
            "title: trainingSet2_0164.tif, id: 1L_H_Gww2kc_5oVm271JjvtKokj1Vgpx6\n",
            "5500th image reached\n",
            "title: trainingSet2_0047.tif, id: 1XrfwpOycfgXYlGrEwqJ9NRU9mwzysyyt\n",
            "Google folder id: 1F_iOrTSWq_nJdzlJuV4hfSfmnbu0QlQL\n",
            "OS folder: au_211\n",
            "Number of files found: 5575\n",
            "100th image reached\n",
            "title: trainingSetAu211_05479.tif, id: 1OlaL7CoUp10XRsgleHho2s-p3yedxYNM\n",
            "200th image reached\n",
            "title: trainingSetAu211_05377.tif, id: 1Rlcee2ttQ8jAkgz4H-tliwCBF4btFjfw\n",
            "300th image reached\n",
            "title: trainingSetAu211_05279.tif, id: 1-3WKk-8Y4hcv7ByTPWYtJIxDOq-rbZT9\n",
            "400th image reached\n",
            "title: trainingSetAu211_05177.tif, id: 1-V2QNx9nOiBKTVupbmzlR8DZV4tIaG8L\n",
            "500th image reached\n",
            "title: trainingSetAu211_05075.tif, id: 1ncP-H3FXWs-avXLTGZPqXNO9ifT2uyHg\n",
            "600th image reached\n",
            "title: trainingSetAu211_04978.tif, id: 1uJRmIjVGB4zmNHfvCEtmAeVYZjV0Z1a4\n",
            "700th image reached\n",
            "title: trainingSetAu211_04877.tif, id: 1HO1UYWTaoiCxjt3uPdzkJ3xWQ4CM_BC5\n",
            "800th image reached\n",
            "title: trainingSetAu211_04775.tif, id: 1iJmv7o_FvUBxzccLXTv5P5n7kFMfhpSA\n",
            "900th image reached\n",
            "title: trainingSetAu211_04675.tif, id: 1xNC9N0A1UxnEHgxPsjJvEPOzlOA1EMoe\n",
            "1000th image reached\n",
            "title: trainingSetAu211_04577.tif, id: 15CMLtKoC0Jih7dx2vB9z9pHDg-V__ukI\n",
            "1100th image reached\n",
            "title: trainingSetAu211_04476.tif, id: 1fjmDm_BVS7r4EiGrP82lYLPzyAVuCJx0\n",
            "1200th image reached\n",
            "title: trainingSetAu211_04378.tif, id: 1AYI8PpjGCaXcLqFzzi0Ll6u6PysU9UKy\n",
            "1300th image reached\n",
            "title: trainingSetAu211_04277.tif, id: 1SLljRtAaS55t47VgED22PWw2FNo_c6h0\n",
            "1400th image reached\n",
            "title: trainingSetAu211_04177.tif, id: 1RYVQTguwp4WpVkrgqHQTHcA6le-RMREi\n",
            "1500th image reached\n",
            "title: trainingSetAu211_04076.tif, id: 1HVVzwwsgIJCcRDRwc-3z7em9g4ol5VAo\n",
            "1600th image reached\n",
            "title: trainingSetAu211_03980.tif, id: 1TdOG0FnaTVifbZBh3Zn6cJEJOxqBcoR2\n",
            "1700th image reached\n",
            "title: trainingSetAu211_03875.tif, id: 1isXJN60o04ViW7qK0bKUu2y-9N7A9M5D\n",
            "1800th image reached\n",
            "title: trainingSetAu211_03778.tif, id: 1tU-qLGUuyUo3OX8hAzajl0idBRtNDkJY\n",
            "1900th image reached\n",
            "title: trainingSetAu211_03680.tif, id: 1pigUueMMOt2IeSiLx7423kwPltgevzLY\n",
            "2000th image reached\n",
            "title: trainingSetAu211_03577.tif, id: 1p3GUxEol9Sa9nDdJJfJtSzYJlKrJX5Iu\n",
            "2100th image reached\n",
            "title: trainingSetAu211_03473.tif, id: 1fbHsdAcnGj51HKKgtwMoeEeQCw0oKsw3\n",
            "2200th image reached\n",
            "title: trainingSetAu211_03376.tif, id: 1w3qRWhx951s-LHeNDUPY7VlIlvM0NVSl\n",
            "2300th image reached\n",
            "title: trainingSetAu211_03277.tif, id: 1Rz0bNRlgj8pNTOmB5V-bHXnESnHrpKH7\n",
            "2400th image reached\n",
            "title: trainingSetAu211_03177.tif, id: 18kmzs7uEzqDQw6AEofRD1sEfpYeKOOwZ\n",
            "2500th image reached\n",
            "title: trainingSetAu211_03077.tif, id: 1ZVx-DTlQD_ME_xicvKlwVJb4WM5PxUaL\n",
            "2600th image reached\n",
            "title: trainingSetAu211_02976.tif, id: 1jwSdCy4dli4MUiVcFkuBJoQyIkNNmpIy\n",
            "2700th image reached\n",
            "title: trainingSetAu211_02876.tif, id: 18pPnOQHF3c5xQkvmH0G6mN_Hsy5YLrIS\n",
            "2800th image reached\n",
            "title: trainingSetAu211_02776.tif, id: 1wTHBW3tQzkJdgjL6ItaOEwqEl7bsVdlz\n",
            "2900th image reached\n",
            "title: trainingSetAu211_02678.tif, id: 1oy5PdHZXT6ZhnXwCoR6SpjjrJ0Sd8qYC\n",
            "3000th image reached\n",
            "title: trainingSetAu211_02577.tif, id: 1jqf-kA2J2cycFpksxpp3eWXw6VrHF23i\n",
            "3100th image reached\n",
            "title: trainingSetAu211_02477.tif, id: 1YCmfuES5Uojmq8tEQR1WwaJLtq7jGSKh\n",
            "3200th image reached\n",
            "title: trainingSetAu211_02378.tif, id: 1-vfjJ6fxXKhv_DUSaOilHrgZeWOeAx0X\n",
            "3300th image reached\n",
            "title: trainingSetAu211_02273.tif, id: 1miU65ATenMvF5T66Nl8Jfadp1O1vsy4i\n",
            "3400th image reached\n",
            "title: trainingSetAu211_02175.tif, id: 164WlYsHTB-t86TiwpVtavgrT8GOseHXq\n",
            "3500th image reached\n",
            "title: trainingSetAu211_02075.tif, id: 1PvNRg2C7MhVco2rDcVYUOqxiVVMituJl\n",
            "3600th image reached\n",
            "title: trainingSetAu211_01978.tif, id: 1AKXkszY0jdaCoPIEAfqo4Kg8AXVt1Je6\n",
            "3700th image reached\n",
            "title: trainingSetAu211_01877.tif, id: 1Tm_yWfkZMaIAJVzF6T4_g8jizlFnFGZ1\n",
            "3800th image reached\n",
            "title: trainingSetAu211_01774.tif, id: 14NFFNOEn5cQEmx516LlVVwZUoSUxS3bQ\n",
            "3900th image reached\n",
            "title: trainingSetAu211_01677.tif, id: 13owQ7rB7ATo1RJuCpaHNIPmQyb6481vf\n",
            "4000th image reached\n",
            "title: trainingSetAu211_01574.tif, id: 1P7kVB4CbJvOpJTxTO3pFINV-xc652PUl\n",
            "4100th image reached\n",
            "title: trainingSetAu211_01476.tif, id: 1vDZDRQag5xLGPsZtjX3k_9Lx6oWEhhGy\n",
            "4200th image reached\n",
            "title: trainingSetAu211_01376.tif, id: 1JpVEXZ_Ps246GwtQG-bCP_gLDd0R8siG\n",
            "4300th image reached\n",
            "title: trainingSetAu211_01276.tif, id: 12CpLtcuxOC1hHUDdxCVL-XrmlDmvDr8-\n",
            "4400th image reached\n",
            "title: trainingSetAu211_01176.tif, id: 1o4qS7zUAT1v4ZS42rnmsp-kADSraKmns\n",
            "downloading to /root/au_211/trainingSetAu211_01176.tif\n",
            "4500th image reached\n",
            "title: trainingSetAu211_01079.tif, id: 1HgFfavblBo3jwoQ3O5xfJnv1NhmN03su\n",
            "downloading to /root/au_211/trainingSetAu211_01079.tif\n",
            "4600th image reached\n",
            "title: trainingSetAu211_00976.tif, id: 1__AQd-XdFKUBq7rkbhuyCD5kJIJrUfSw\n",
            "downloading to /root/au_211/trainingSetAu211_00976.tif\n",
            "4700th image reached\n",
            "title: trainingSetAu211_00874.tif, id: 1m8JpuMXJEregV_mm9_Vu2J6mgUhFNhcq\n",
            "downloading to /root/au_211/trainingSetAu211_00874.tif\n",
            "4800th image reached\n",
            "title: trainingSetAu211_00779.tif, id: 12-WSUpq9UJjHmidOQo_GkSK720LnNu0G\n",
            "downloading to /root/au_211/trainingSetAu211_00779.tif\n",
            "4900th image reached\n",
            "title: trainingSetAu211_00673.tif, id: 1YWKS6VTgpWpYeTDs5qiVv1QMz8H5jdNy\n",
            "downloading to /root/au_211/trainingSetAu211_00673.tif\n",
            "5000th image reached\n",
            "title: trainingSetAu211_00577.tif, id: 1oaMMtaF2gsAew9mPxVDlQHWkfTv8fhzb\n",
            "downloading to /root/au_211/trainingSetAu211_00577.tif\n",
            "5100th image reached\n",
            "title: trainingSetAu211_0482.tif, id: 1f8EJoIoaf9cIt3SjnRKsTcCXYidWGXis\n",
            "downloading to /root/au_211/trainingSetAu211_0482.tif\n",
            "5200th image reached\n",
            "title: trainingSetAu211_0373.tif, id: 1ZTFJjWsrQUtIwPYZbZu3hxVfx_1c1-vQ\n",
            "downloading to /root/au_211/trainingSetAu211_0373.tif\n",
            "5300th image reached\n",
            "title: trainingSetAu211_0269.tif, id: 1rOWhqd0btGShZsICIvMR_dyOIULxWQ5q\n",
            "downloading to /root/au_211/trainingSetAu211_0269.tif\n",
            "5400th image reached\n",
            "title: trainingSetAu211_0177.tif, id: 1qZ2gVELHWMdWWijLGNiW20m4UMwW0zR2\n",
            "downloading to /root/au_211/trainingSetAu211_0177.tif\n",
            "5500th image reached\n",
            "title: trainingSetAu211_0095.tif, id: 1ew0bJq0d5kQjE55socxLry1qP2QZOZOp\n",
            "downloading to /root/au_211/trainingSetAu211_0095.tif\n",
            "Google folder id: 1Zun1kEOw7WPkWRouU74-AEMHb36uCcLf\n",
            "OS folder: au_111\n",
            "Number of files found: 500\n",
            "100th image reached\n",
            "title: trainingSetAu111_0398.tif, id: 1BNZlZQ-zW8R-vZ1RLfhwV-yEacKwrj_3\n",
            "downloading to /root/au_111/trainingSetAu111_0398.tif\n"
          ],
          "name": "stdout"
        },
        {
          "output_type": "error",
          "ename": "ApiRequestError",
          "evalue": "ignored",
          "traceback": [
            "\u001b[0;31m\u001b[0m",
            "\u001b[0;31mApiRequestError\u001b[0mTraceback (most recent call last)",
            "\u001b[0;32m<ipython-input-19-b97a11e39689>\u001b[0m in \u001b[0;36m<module>\u001b[0;34m()\u001b[0m\n\u001b[0;32m----> 1\u001b[0;31m \u001b[0mauthenticate_and_download\u001b[0m\u001b[0;34m(\u001b[0m\u001b[0;34m)\u001b[0m\u001b[0;34m\u001b[0m\u001b[0m\n\u001b[0m",
            "\u001b[0;32m<ipython-input-17-1792a4fbb208>\u001b[0m in \u001b[0;36mauthenticate_and_download\u001b[0;34m(folder_map)\u001b[0m\n\u001b[1;32m     30\u001b[0m         \u001b[0;32mprint\u001b[0m\u001b[0;34m(\u001b[0m\u001b[0;34m'downloading to {}'\u001b[0m\u001b[0;34m.\u001b[0m\u001b[0mformat\u001b[0m\u001b[0;34m(\u001b[0m\u001b[0mfname\u001b[0m\u001b[0;34m)\u001b[0m\u001b[0;34m)\u001b[0m\u001b[0;34m\u001b[0m\u001b[0m\n\u001b[1;32m     31\u001b[0m       \u001b[0mf_\u001b[0m \u001b[0;34m=\u001b[0m \u001b[0mdrive\u001b[0m\u001b[0;34m.\u001b[0m\u001b[0mCreateFile\u001b[0m\u001b[0;34m(\u001b[0m\u001b[0;34m{\u001b[0m\u001b[0;34m'id'\u001b[0m\u001b[0;34m:\u001b[0m \u001b[0mf\u001b[0m\u001b[0;34m[\u001b[0m\u001b[0;34m'id'\u001b[0m\u001b[0;34m]\u001b[0m\u001b[0;34m}\u001b[0m\u001b[0;34m)\u001b[0m\u001b[0;34m\u001b[0m\u001b[0m\n\u001b[0;32m---> 32\u001b[0;31m       \u001b[0mf_\u001b[0m\u001b[0;34m.\u001b[0m\u001b[0mGetContentFile\u001b[0m\u001b[0;34m(\u001b[0m\u001b[0mfname\u001b[0m\u001b[0;34m)\u001b[0m\u001b[0;34m\u001b[0m\u001b[0m\n\u001b[0m",
            "\u001b[0;32m/usr/local/lib/python2.7/dist-packages/pydrive/files.pyc\u001b[0m in \u001b[0;36mGetContentFile\u001b[0;34m(self, filename, mimetype, remove_bom)\u001b[0m\n\u001b[1;32m    208\u001b[0m                     \u001b[0mtype\u001b[0m\u001b[0;34m(\u001b[0m\u001b[0mself\u001b[0m\u001b[0;34m.\u001b[0m\u001b[0mcontent\u001b[0m\u001b[0;34m)\u001b[0m \u001b[0;32mis\u001b[0m \u001b[0;32mnot\u001b[0m \u001b[0mio\u001b[0m\u001b[0;34m.\u001b[0m\u001b[0mBytesIO\u001b[0m \u001b[0;32mor\u001b[0m\u001b[0;31m \u001b[0m\u001b[0;31m\\\u001b[0m\u001b[0;34m\u001b[0m\u001b[0m\n\u001b[1;32m    209\u001b[0m                     \u001b[0mself\u001b[0m\u001b[0;34m.\u001b[0m\u001b[0mhas_bom\u001b[0m \u001b[0;34m==\u001b[0m \u001b[0mremove_bom\u001b[0m\u001b[0;34m:\u001b[0m\u001b[0;34m\u001b[0m\u001b[0m\n\u001b[0;32m--> 210\u001b[0;31m       \u001b[0mself\u001b[0m\u001b[0;34m.\u001b[0m\u001b[0mFetchContent\u001b[0m\u001b[0;34m(\u001b[0m\u001b[0mmimetype\u001b[0m\u001b[0;34m,\u001b[0m \u001b[0mremove_bom\u001b[0m\u001b[0;34m)\u001b[0m\u001b[0;34m\u001b[0m\u001b[0m\n\u001b[0m\u001b[1;32m    211\u001b[0m     \u001b[0mf\u001b[0m \u001b[0;34m=\u001b[0m \u001b[0mopen\u001b[0m\u001b[0;34m(\u001b[0m\u001b[0mfilename\u001b[0m\u001b[0;34m,\u001b[0m \u001b[0;34m'wb'\u001b[0m\u001b[0;34m)\u001b[0m\u001b[0;34m\u001b[0m\u001b[0m\n\u001b[1;32m    212\u001b[0m     \u001b[0mf\u001b[0m\u001b[0;34m.\u001b[0m\u001b[0mwrite\u001b[0m\u001b[0;34m(\u001b[0m\u001b[0mself\u001b[0m\u001b[0;34m.\u001b[0m\u001b[0mcontent\u001b[0m\u001b[0;34m.\u001b[0m\u001b[0mgetvalue\u001b[0m\u001b[0;34m(\u001b[0m\u001b[0;34m)\u001b[0m\u001b[0;34m)\u001b[0m\u001b[0;34m\u001b[0m\u001b[0m\n",
            "\u001b[0;32m/usr/local/lib/python2.7/dist-packages/pydrive/files.pyc\u001b[0m in \u001b[0;36m_decorated\u001b[0;34m(self, *args, **kwargs)\u001b[0m\n\u001b[1;32m     40\u001b[0m   \u001b[0;32mdef\u001b[0m \u001b[0m_decorated\u001b[0m\u001b[0;34m(\u001b[0m\u001b[0mself\u001b[0m\u001b[0;34m,\u001b[0m \u001b[0;34m*\u001b[0m\u001b[0margs\u001b[0m\u001b[0;34m,\u001b[0m \u001b[0;34m**\u001b[0m\u001b[0mkwargs\u001b[0m\u001b[0;34m)\u001b[0m\u001b[0;34m:\u001b[0m\u001b[0;34m\u001b[0m\u001b[0m\n\u001b[1;32m     41\u001b[0m     \u001b[0;32mif\u001b[0m \u001b[0;32mnot\u001b[0m \u001b[0mself\u001b[0m\u001b[0;34m.\u001b[0m\u001b[0muploaded\u001b[0m\u001b[0;34m:\u001b[0m\u001b[0;34m\u001b[0m\u001b[0m\n\u001b[0;32m---> 42\u001b[0;31m       \u001b[0mself\u001b[0m\u001b[0;34m.\u001b[0m\u001b[0mFetchMetadata\u001b[0m\u001b[0;34m(\u001b[0m\u001b[0;34m)\u001b[0m\u001b[0;34m\u001b[0m\u001b[0m\n\u001b[0m\u001b[1;32m     43\u001b[0m     \u001b[0;32mreturn\u001b[0m \u001b[0mdecoratee\u001b[0m\u001b[0;34m(\u001b[0m\u001b[0mself\u001b[0m\u001b[0;34m,\u001b[0m \u001b[0;34m*\u001b[0m\u001b[0margs\u001b[0m\u001b[0;34m,\u001b[0m \u001b[0;34m**\u001b[0m\u001b[0mkwargs\u001b[0m\u001b[0;34m)\u001b[0m\u001b[0;34m\u001b[0m\u001b[0m\n\u001b[1;32m     44\u001b[0m   \u001b[0;32mreturn\u001b[0m \u001b[0m_decorated\u001b[0m\u001b[0;34m\u001b[0m\u001b[0m\n",
            "\u001b[0;32m/usr/local/lib/python2.7/dist-packages/pydrive/auth.pyc\u001b[0m in \u001b[0;36m_decorated\u001b[0;34m(self, *args, **kwargs)\u001b[0m\n\u001b[1;32m     73\u001b[0m       \u001b[0mself\u001b[0m\u001b[0;34m.\u001b[0m\u001b[0mhttp\u001b[0m \u001b[0;34m=\u001b[0m \u001b[0mself\u001b[0m\u001b[0;34m.\u001b[0m\u001b[0mauth\u001b[0m\u001b[0;34m.\u001b[0m\u001b[0mGet_Http_Object\u001b[0m\u001b[0;34m(\u001b[0m\u001b[0;34m)\u001b[0m\u001b[0;34m\u001b[0m\u001b[0m\n\u001b[1;32m     74\u001b[0m \u001b[0;34m\u001b[0m\u001b[0m\n\u001b[0;32m---> 75\u001b[0;31m     \u001b[0;32mreturn\u001b[0m \u001b[0mdecoratee\u001b[0m\u001b[0;34m(\u001b[0m\u001b[0mself\u001b[0m\u001b[0;34m,\u001b[0m \u001b[0;34m*\u001b[0m\u001b[0margs\u001b[0m\u001b[0;34m,\u001b[0m \u001b[0;34m**\u001b[0m\u001b[0mkwargs\u001b[0m\u001b[0;34m)\u001b[0m\u001b[0;34m\u001b[0m\u001b[0m\n\u001b[0m\u001b[1;32m     76\u001b[0m   \u001b[0;32mreturn\u001b[0m \u001b[0m_decorated\u001b[0m\u001b[0;34m\u001b[0m\u001b[0m\n\u001b[1;32m     77\u001b[0m \u001b[0;34m\u001b[0m\u001b[0m\n",
            "\u001b[0;32m/usr/local/lib/python2.7/dist-packages/pydrive/files.pyc\u001b[0m in \u001b[0;36mFetchMetadata\u001b[0;34m(self, fields, fetch_all)\u001b[0m\n\u001b[1;32m    237\u001b[0m           \u001b[0;34m.\u001b[0m\u001b[0mexecute\u001b[0m\u001b[0;34m(\u001b[0m\u001b[0mhttp\u001b[0m\u001b[0;34m=\u001b[0m\u001b[0mself\u001b[0m\u001b[0;34m.\u001b[0m\u001b[0mhttp\u001b[0m\u001b[0;34m)\u001b[0m\u001b[0;34m\u001b[0m\u001b[0m\n\u001b[1;32m    238\u001b[0m       \u001b[0;32mexcept\u001b[0m \u001b[0merrors\u001b[0m\u001b[0;34m.\u001b[0m\u001b[0mHttpError\u001b[0m \u001b[0;32mas\u001b[0m \u001b[0merror\u001b[0m\u001b[0;34m:\u001b[0m\u001b[0;34m\u001b[0m\u001b[0m\n\u001b[0;32m--> 239\u001b[0;31m         \u001b[0;32mraise\u001b[0m \u001b[0mApiRequestError\u001b[0m\u001b[0;34m(\u001b[0m\u001b[0merror\u001b[0m\u001b[0;34m)\u001b[0m\u001b[0;34m\u001b[0m\u001b[0m\n\u001b[0m\u001b[1;32m    240\u001b[0m       \u001b[0;32melse\u001b[0m\u001b[0;34m:\u001b[0m\u001b[0;34m\u001b[0m\u001b[0m\n\u001b[1;32m    241\u001b[0m         \u001b[0mself\u001b[0m\u001b[0;34m.\u001b[0m\u001b[0muploaded\u001b[0m \u001b[0;34m=\u001b[0m \u001b[0mTrue\u001b[0m\u001b[0;34m\u001b[0m\u001b[0m\n",
            "\u001b[0;31mApiRequestError\u001b[0m: <HttpError 403 when requesting https://www.googleapis.com/drive/v2/files/1r-npvquv05r7B6QlZCsCkgHavjteYxuS?alt=json returned \"User rate limit exceeded\">"
          ]
        }
      ]
    },
    {
      "cell_type": "code",
      "metadata": {
        "id": "6OqK-spQyhwF"
      },
      "source": [
        "class_label_to_os_folder = {\n",
        "    0: 'mos2_001',\n",
        "    1: 'au_111',\n",
        "    2: 'au_211'\n",
        "}"
      ],
      "execution_count": null,
      "outputs": []
    },
    {
      "cell_type": "code",
      "metadata": {
        "id": "5xa5gIo8yyXB"
      },
      "source": [
        "def get_training_data():\n",
        "  X, y = [], []\n",
        "  for class_label, os_folder in class_label_to_os_folder.iteritems():\n",
        "    print 'Class %d: %s' %(class_label, os_folder)\n",
        "    for i, fp in enumerate(glob.glob('/root/%s/*.tif' %os_folder)):\n",
        "      if (i + 1)%100 == 0:\n",
        "        print '%dth image read' %(i+1)\n",
        "      with tifffile.TiffFile(fp) as tif:\n",
        "        data = tif.asarray()\n",
        "    #     data = scipy.ndimage.zoom(data, zoom=0.25)\n",
        "        X.append(data)\n",
        "        y.append(class_label)\n",
        "  return X, y"
      ],
      "execution_count": null,
      "outputs": []
    },
    {
      "cell_type": "code",
      "metadata": {
        "id": "4_aTea0g0oNN"
      },
      "source": [
        "X, y = get_training_data()\n",
        "assert len(X) == len(y)\n",
        "print 'Number of images: %d' %len(X)\n",
        "print 'Distribution of labels: '\n",
        "print Counter(y)"
      ],
      "execution_count": null,
      "outputs": []
    },
    {
      "cell_type": "code",
      "metadata": {
        "id": "AjqnxVBA7udy"
      },
      "source": [
        "x_train = X_train\n",
        "x_test = X_test"
      ],
      "execution_count": null,
      "outputs": []
    },
    {
      "cell_type": "markdown",
      "metadata": {
        "id": "ilQqfbtGJlGc"
      },
      "source": [
        ""
      ]
    },
    {
      "cell_type": "code",
      "metadata": {
        "id": "aHXy0xWxnhnb"
      },
      "source": [
        "batch_size = 40\n",
        "num_classes = 2\n",
        "epochs = 20"
      ],
      "execution_count": null,
      "outputs": []
    },
    {
      "cell_type": "code",
      "metadata": {
        "id": "Poj58UFVnsIB"
      },
      "source": [
        "img_x, img_y = 128, 128"
      ],
      "execution_count": null,
      "outputs": []
    },
    {
      "cell_type": "code",
      "metadata": {
        "id": "HQW-K8c5ntf5",
        "colab": {
          "base_uri": "https://localhost:8080/",
          "height": 68
        },
        "outputId": "8b2fef36-e833-40f2-fe02-41ca505f952f"
      },
      "source": [
        "(x_train, y_train), (x_test, y_test) = mnist.load_data()"
      ],
      "execution_count": null,
      "outputs": [
        {
          "output_type": "stream",
          "text": [
            "Downloading data from https://s3.amazonaws.com/img-datasets/mnist.npz\n",
            "11493376/11490434 [==============================] - 1s 0us/step\n",
            "11501568/11490434 [==============================] - 1s 0us/step\n"
          ],
          "name": "stdout"
        }
      ]
    },
    {
      "cell_type": "code",
      "metadata": {
        "id": "wHXNBrH1nvHe",
        "colab": {
          "base_uri": "https://localhost:8080/",
          "height": 34
        },
        "outputId": "28dc53db-9fbb-406a-efde-3b87a87de378"
      },
      "source": [
        "x_train.shape"
      ],
      "execution_count": null,
      "outputs": [
        {
          "output_type": "execute_result",
          "data": {
            "text/plain": [
              "(800, 128, 128, 1)"
            ]
          },
          "metadata": {
            "tags": []
          },
          "execution_count": 67
        }
      ]
    },
    {
      "cell_type": "code",
      "metadata": {
        "id": "qj3IQQ-IoC4F"
      },
      "source": [
        "x_train = X_train.reshape(x_train.shape[0], img_x, img_y, 1)\n",
        "x_test = x_test.reshape(x_test.shape[0], img_x, img_y, 1)\n",
        "input_shape = (img_x, img_y, 1)"
      ],
      "execution_count": null,
      "outputs": []
    },
    {
      "cell_type": "code",
      "metadata": {
        "id": "153TFRQRtLr0",
        "colab": {
          "base_uri": "https://localhost:8080/",
          "height": 34
        },
        "outputId": "d7a1e4fe-38d4-4c8d-8fe7-ba0fc85d2026"
      },
      "source": [
        "np.array([1,2])/2.0"
      ],
      "execution_count": null,
      "outputs": [
        {
          "output_type": "execute_result",
          "data": {
            "text/plain": [
              "array([0.5, 1. ])"
            ]
          },
          "metadata": {
            "tags": []
          },
          "execution_count": 22
        }
      ]
    },
    {
      "cell_type": "code",
      "metadata": {
        "id": "GuodBhJwoVBu",
        "colab": {
          "base_uri": "https://localhost:8080/",
          "height": 68
        },
        "outputId": "6a45879c-5355-4fba-f384-819d1287d960"
      },
      "source": [
        "x_train = x_train.astype('float32')\n",
        "x_test = x_test.astype('float32')\n",
        "x_train /= 255\n",
        "x_test /= 255\n",
        "print('x_train shape:', x_train.shape)\n",
        "print(x_train.shape[0], 'train samples')\n",
        "print(x_test.shape[0], 'test samples')"
      ],
      "execution_count": null,
      "outputs": [
        {
          "output_type": "stream",
          "text": [
            "('x_train shape:', (800, 128, 128, 1))\n",
            "(800, 'train samples')\n",
            "(200, 'test samples')\n"
          ],
          "name": "stdout"
        }
      ]
    },
    {
      "cell_type": "code",
      "metadata": {
        "id": "xaS-0YjioX51"
      },
      "source": [
        "y_train = keras.utils.to_categorical(y_train, num_classes)\n",
        "y_test = keras.utils.to_categorical(y_test, num_classes)"
      ],
      "execution_count": null,
      "outputs": []
    },
    {
      "cell_type": "code",
      "metadata": {
        "id": "kXdy07vzKbUC",
        "colab": {
          "base_uri": "https://localhost:8080/",
          "height": 401
        },
        "outputId": "9ebddfc5-6038-4b08-e04c-01daf0722786"
      },
      "source": [
        "print np.max(x_train[-1])\n",
        "print np.sum(x_train[-1, 0, :, 0] > 0)\n",
        "plt.imshow(x_train[-1, :, :, 0])"
      ],
      "execution_count": null,
      "outputs": [
        {
          "output_type": "stream",
          "text": [
            "256.93726\n",
            "0\n"
          ],
          "name": "stdout"
        },
        {
          "output_type": "execute_result",
          "data": {
            "text/plain": [
              "<matplotlib.image.AxesImage at 0x7f684cba1c10>"
            ]
          },
          "metadata": {
            "tags": []
          },
          "execution_count": 60
        },
        {
          "output_type": "display_data",
          "data": {
            "image/png": "[encoded data removed]",
            "text/plain": [
              "<matplotlib.figure.Figure at 0x7f684cda12d0>"
            ]
          },
          "metadata": {
            "tags": []
          }
        }
      ]
    },
    {
      "cell_type": "code",
      "metadata": {
        "id": "Qs-WWvgBHZVP",
        "colab": {
          "base_uri": "https://localhost:8080/",
          "height": 401
        },
        "outputId": "0831f0ea-b299-41ee-e335-34aecd64b65d"
      },
      "source": [
        "print np.max(x_train[0])\n",
        "print np.sum(x_train[0, 0, :, 0] > 0)\n",
        "plt.imshow(x_train[0, :, :, 0])"
      ],
      "execution_count": null,
      "outputs": [
        {
          "output_type": "stream",
          "text": [
            "248.4196\n",
            "12\n"
          ],
          "name": "stdout"
        },
        {
          "output_type": "execute_result",
          "data": {
            "text/plain": [
              "<matplotlib.image.AxesImage at 0x7f684de24d90>"
            ]
          },
          "metadata": {
            "tags": []
          },
          "execution_count": 50
        },
        {
          "output_type": "display_data",
          "data": {
            "image/png": "[encoded data removed]",
            "text/plain": [
              "<matplotlib.figure.Figure at 0x7f684dee0cd0>"
            ]
          },
          "metadata": {
            "tags": []
          }
        }
      ]
    },
    {
      "cell_type": "code",
      "metadata": {
        "id": "kKsyo6xMHUnJ",
        "colab": {
          "base_uri": "https://localhost:8080/",
          "height": 34
        },
        "outputId": "4a58f782-d910-4f42-b98d-2264c8545d8c"
      },
      "source": [
        "input_shape"
      ],
      "execution_count": null,
      "outputs": [
        {
          "output_type": "execute_result",
          "data": {
            "text/plain": [
              "(128, 128, 1)"
            ]
          },
          "metadata": {
            "tags": []
          },
          "execution_count": 65
        }
      ]
    },
    {
      "cell_type": "code",
      "metadata": {
        "id": "I5QPk6rwcZYu",
        "colab": {
          "base_uri": "https://localhost:8080/",
          "height": 198
        },
        "outputId": "07c57f23-e17d-4b57-c6fd-4aaf58aa24e8"
      },
      "source": [
        "print X.shape\n",
        "plt.imshow(X[0, :, :])"
      ],
      "execution_count": null,
      "outputs": [
        {
          "output_type": "stream",
          "text": [
            "(1000, 16384)\n"
          ],
          "name": "stdout"
        },
        {
          "output_type": "error",
          "ename": "IndexError",
          "evalue": "ignored",
          "traceback": [
            "\u001b[0;31m\u001b[0m",
            "\u001b[0;31mIndexError\u001b[0mTraceback (most recent call last)",
            "\u001b[0;32m<ipython-input-99-853accc23832>\u001b[0m in \u001b[0;36m<module>\u001b[0;34m()\u001b[0m\n\u001b[1;32m      1\u001b[0m \u001b[0;32mprint\u001b[0m \u001b[0mX\u001b[0m\u001b[0;34m.\u001b[0m\u001b[0mshape\u001b[0m\u001b[0;34m\u001b[0m\u001b[0m\n\u001b[0;32m----> 2\u001b[0;31m \u001b[0mplt\u001b[0m\u001b[0;34m.\u001b[0m\u001b[0mimshow\u001b[0m\u001b[0;34m(\u001b[0m\u001b[0mX\u001b[0m\u001b[0;34m[\u001b[0m\u001b[0;36m0\u001b[0m\u001b[0;34m,\u001b[0m \u001b[0;34m:\u001b[0m\u001b[0;34m,\u001b[0m \u001b[0;34m:\u001b[0m\u001b[0;34m]\u001b[0m\u001b[0;34m)\u001b[0m\u001b[0;34m\u001b[0m\u001b[0m\n\u001b[0m",
            "\u001b[0;31mIndexError\u001b[0m: too many indices for array"
          ]
        }
      ]
    },
    {
      "cell_type": "code",
      "metadata": {
        "id": "i-92tKHXqinY",
        "colab": {
          "base_uri": "https://localhost:8080/",
          "height": 136
        },
        "outputId": "2c470b98-2b98-406e-ec92-896c0daa6a88"
      },
      "source": [
        "y"
      ],
      "execution_count": null,
      "outputs": [
        {
          "output_type": "execute_result",
          "data": {
            "text/plain": [
              "array([[1., 0.],\n",
              "       [1., 0.],\n",
              "       [1., 0.],\n",
              "       ...,\n",
              "       [0., 1.],\n",
              "       [0., 1.],\n",
              "       [0., 1.]], dtype=float32)"
            ]
          },
          "metadata": {
            "tags": []
          },
          "execution_count": 125
        }
      ]
    },
    {
      "cell_type": "code",
      "metadata": {
        "id": "Uica672rcKj8",
        "colab": {
          "base_uri": "https://localhost:8080/",
          "height": 731
        },
        "outputId": "24ce9d23-57ea-4e1f-8ba8-0762ec0ec1be"
      },
      "source": [
        "model = Sequential()\n",
        "model.add(Dense(200, activation='relu', input_shape=(262144,)))\n",
        "# model.add(Dense(200, activation='relu'))\n",
        "# model.add(Dense(200, activation='relu'))\n",
        "model.add(Dense(num_classes, activation='softmax'))\n",
        "\n",
        "model.compile(loss=keras.losses.categorical_crossentropy,\n",
        "              optimizer=keras.optimizers.Adam(),\n",
        "              metrics=['accuracy'])\n",
        "\n",
        "history = AccuracyHistory()\n",
        "\n",
        "model.fit(X, y,\n",
        "          batch_size=batch_size,\n",
        "          epochs=epochs,\n",
        "          verbose=1,\n",
        "          validation_split=0.1,\n",
        "          shuffle=True,\n",
        "          callbacks=[history])"
      ],
      "execution_count": null,
      "outputs": [
        {
          "output_type": "stream",
          "text": [
            "Train on 900 samples, validate on 100 samples\n",
            "Epoch 1/20\n",
            "900/900 [==============================] - 5s 6ms/step - loss: 7.1166 - acc: 0.5544 - val_loss: 16.1181 - val_acc: 0.0000e+00\n",
            "Epoch 2/20\n",
            "900/900 [==============================] - 3s 3ms/step - loss: 7.1099 - acc: 0.5589 - val_loss: 16.1181 - val_acc: 0.0000e+00\n",
            "Epoch 3/20\n",
            "900/900 [==============================] - 3s 3ms/step - loss: 7.1457 - acc: 0.5567 - val_loss: 16.1181 - val_acc: 0.0000e+00\n",
            "Epoch 4/20\n",
            "900/900 [==============================] - 3s 3ms/step - loss: 7.1457 - acc: 0.5567 - val_loss: 16.1181 - val_acc: 0.0000e+00\n",
            "Epoch 5/20\n",
            "900/900 [==============================] - 3s 3ms/step - loss: 7.1457 - acc: 0.5567 - val_loss: 16.1181 - val_acc: 0.0000e+00\n",
            "Epoch 6/20\n",
            "900/900 [==============================] - 3s 3ms/step - loss: 7.1457 - acc: 0.5567 - val_loss: 16.1181 - val_acc: 0.0000e+00\n",
            "Epoch 7/20\n",
            "900/900 [==============================] - 3s 3ms/step - loss: 7.1457 - acc: 0.5567 - val_loss: 16.1181 - val_acc: 0.0000e+00\n",
            "Epoch 8/20\n",
            "900/900 [==============================] - 3s 3ms/step - loss: 7.1457 - acc: 0.5567 - val_loss: 16.1181 - val_acc: 0.0000e+00\n",
            "Epoch 9/20\n",
            "900/900 [==============================] - 3s 3ms/step - loss: 7.1457 - acc: 0.5567 - val_loss: 16.1181 - val_acc: 0.0000e+00\n",
            "Epoch 10/20\n",
            "900/900 [==============================] - 3s 3ms/step - loss: 7.1457 - acc: 0.5567 - val_loss: 16.1181 - val_acc: 0.0000e+00\n",
            "Epoch 11/20\n",
            "900/900 [==============================] - 3s 3ms/step - loss: 7.1457 - acc: 0.5567 - val_loss: 16.1181 - val_acc: 0.0000e+00\n",
            "Epoch 12/20\n",
            "900/900 [==============================] - 3s 3ms/step - loss: 7.1457 - acc: 0.5567 - val_loss: 16.1181 - val_acc: 0.0000e+00\n",
            "Epoch 13/20\n",
            "900/900 [==============================] - 3s 3ms/step - loss: 7.1457 - acc: 0.5567 - val_loss: 16.1181 - val_acc: 0.0000e+00\n",
            "Epoch 14/20\n",
            "900/900 [==============================] - 3s 3ms/step - loss: 7.1457 - acc: 0.5567 - val_loss: 16.1181 - val_acc: 0.0000e+00\n",
            "Epoch 15/20\n",
            "900/900 [==============================] - 3s 3ms/step - loss: 7.1457 - acc: 0.5567 - val_loss: 16.1181 - val_acc: 0.0000e+00\n",
            "Epoch 16/20\n",
            "900/900 [==============================] - 3s 3ms/step - loss: 7.1457 - acc: 0.5567 - val_loss: 16.1181 - val_acc: 0.0000e+00\n",
            "Epoch 17/20\n",
            "900/900 [==============================] - 3s 3ms/step - loss: 7.1457 - acc: 0.5567 - val_loss: 16.1181 - val_acc: 0.0000e+00\n",
            "Epoch 18/20\n",
            "900/900 [==============================] - 3s 3ms/step - loss: 7.1457 - acc: 0.5567 - val_loss: 16.1181 - val_acc: 0.0000e+00\n",
            "Epoch 19/20\n",
            "900/900 [==============================] - 3s 3ms/step - loss: 7.1457 - acc: 0.5567 - val_loss: 16.1181 - val_acc: 0.0000e+00\n",
            "Epoch 20/20\n",
            "900/900 [==============================] - 3s 3ms/step - loss: 7.1457 - acc: 0.5567 - val_loss: 16.1181 - val_acc: 0.0000e+00\n"
          ],
          "name": "stdout"
        },
        {
          "output_type": "execute_result",
          "data": {
            "text/plain": [
              "<keras.callbacks.History at 0x7f6848312450>"
            ]
          },
          "metadata": {
            "tags": []
          },
          "execution_count": 131
        }
      ]
    },
    {
      "cell_type": "code",
      "metadata": {
        "id": "J4-WKv9tQxMH",
        "colab": {
          "base_uri": "https://localhost:8080/",
          "height": 1768
        },
        "outputId": "78e03097-00b1-4e07-ecdb-1e3fbe7e95ed"
      },
      "source": [
        "x_train_mlp = x_train.reshape(x_train.shape[0], img_x*img_y)\n",
        "print x_train_mlp.shape\n",
        "\n",
        "model = Sequential()\n",
        "model.add(Dense(200, activation='relu', input_shape=(16384,)))\n",
        "model.add(Dense(200, activation='relu'))\n",
        "model.add(Dense(200, activation='relu'))\n",
        "model.add(Dense(num_classes, activation='softmax'))\n",
        "\n",
        "model.compile(loss=keras.losses.categorical_crossentropy,\n",
        "              optimizer=keras.optimizers.Adam(),\n",
        "              metrics=['accuracy'])\n",
        "\n",
        "history = AccuracyHistory()\n",
        "\n",
        "model.fit(x_train_mlp, y_train,\n",
        "          batch_size=batch_size,\n",
        "          epochs=epochs,\n",
        "          verbose=1,\n",
        "          validation_split=0.2,\n",
        "          shuffle=True,\n",
        "          callbacks=[history])"
      ],
      "execution_count": null,
      "outputs": [
        {
          "output_type": "stream",
          "text": [
            "(800, 16384)\n",
            "Train on 640 samples, validate on 160 samples\n",
            "Epoch 1/50\n",
            "640/640 [==============================] - 1s 1ms/step - loss: 1.1521 - acc: 0.9141 - val_loss: 0.2057 - val_acc: 0.9875\n",
            "Epoch 2/50\n",
            "640/640 [==============================] - 0s 456us/step - loss: 0.3728 - acc: 0.9766 - val_loss: 0.1007 - val_acc: 0.9938\n",
            "Epoch 3/50\n",
            "640/640 [==============================] - 0s 422us/step - loss: 0.7815 - acc: 0.9469 - val_loss: 1.9050 - val_acc: 0.8750\n",
            "Epoch 4/50\n",
            "640/640 [==============================] - 0s 451us/step - loss: 0.2848 - acc: 0.9812 - val_loss: 0.3022 - val_acc: 0.9812\n",
            "Epoch 5/50\n",
            "640/640 [==============================] - 0s 435us/step - loss: 1.0074 - acc: 0.9375 - val_loss: 0.1007 - val_acc: 0.9938\n",
            "Epoch 6/50\n",
            "640/640 [==============================] - 0s 401us/step - loss: 0.4314 - acc: 0.9719 - val_loss: 0.5037 - val_acc: 0.9688\n",
            "Epoch 7/50\n",
            "640/640 [==============================] - 0s 413us/step - loss: 0.1259 - acc: 0.9922 - val_loss: 0.5505 - val_acc: 0.9625\n",
            "Epoch 8/50\n",
            "640/640 [==============================] - 0s 421us/step - loss: 0.1710 - acc: 0.9891 - val_loss: 2.6276 - val_acc: 0.8313\n",
            "Epoch 9/50\n",
            "640/640 [==============================] - 0s 409us/step - loss: 0.5475 - acc: 0.9656 - val_loss: 2.2164 - val_acc: 0.8625\n",
            "Epoch 10/50\n",
            "640/640 [==============================] - 0s 404us/step - loss: 0.4589 - acc: 0.9703 - val_loss: 0.9629 - val_acc: 0.9375\n",
            "Epoch 11/50\n",
            "640/640 [==============================] - 0s 405us/step - loss: 0.1259 - acc: 0.9922 - val_loss: 0.5037 - val_acc: 0.9688\n",
            "Epoch 12/50\n",
            "640/640 [==============================] - 0s 418us/step - loss: 0.1259 - acc: 0.9922 - val_loss: 0.5037 - val_acc: 0.9688\n",
            "Epoch 13/50\n",
            "640/640 [==============================] - 0s 424us/step - loss: 0.1259 - acc: 0.9922 - val_loss: 0.5037 - val_acc: 0.9688\n",
            "Epoch 14/50\n",
            "640/640 [==============================] - 0s 403us/step - loss: 0.1259 - acc: 0.9922 - val_loss: 0.5037 - val_acc: 0.9688\n",
            "Epoch 15/50\n",
            "640/640 [==============================] - 0s 403us/step - loss: 0.1259 - acc: 0.9922 - val_loss: 0.5037 - val_acc: 0.9688\n",
            "Epoch 16/50\n",
            "640/640 [==============================] - 0s 403us/step - loss: 0.1259 - acc: 0.9922 - val_loss: 0.5037 - val_acc: 0.9688\n",
            "Epoch 17/50\n",
            "640/640 [==============================] - 0s 411us/step - loss: 0.1259 - acc: 0.9922 - val_loss: 0.5037 - val_acc: 0.9688\n",
            "Epoch 18/50\n",
            "640/640 [==============================] - 0s 422us/step - loss: 0.1259 - acc: 0.9922 - val_loss: 0.5037 - val_acc: 0.9688\n",
            "Epoch 19/50\n",
            "640/640 [==============================] - 0s 409us/step - loss: 0.1259 - acc: 0.9922 - val_loss: 0.5037 - val_acc: 0.9688\n",
            "Epoch 20/50\n",
            "640/640 [==============================] - 0s 408us/step - loss: 0.1259 - acc: 0.9922 - val_loss: 0.5037 - val_acc: 0.9688\n",
            "Epoch 21/50\n",
            "640/640 [==============================] - 0s 411us/step - loss: 0.1259 - acc: 0.9922 - val_loss: 0.5037 - val_acc: 0.9688\n",
            "Epoch 22/50\n",
            "640/640 [==============================] - 0s 422us/step - loss: 0.1259 - acc: 0.9922 - val_loss: 0.5037 - val_acc: 0.9688\n",
            "Epoch 23/50\n",
            "640/640 [==============================] - 0s 423us/step - loss: 0.1259 - acc: 0.9922 - val_loss: 0.5037 - val_acc: 0.9688\n",
            "Epoch 24/50\n",
            "640/640 [==============================] - 0s 407us/step - loss: 0.1259 - acc: 0.9922 - val_loss: 0.5037 - val_acc: 0.9688\n",
            "Epoch 25/50\n",
            "640/640 [==============================] - 0s 399us/step - loss: 0.1259 - acc: 0.9922 - val_loss: 0.5037 - val_acc: 0.9688\n",
            "Epoch 26/50\n",
            "640/640 [==============================] - 0s 409us/step - loss: 0.1259 - acc: 0.9922 - val_loss: 0.5037 - val_acc: 0.9688\n",
            "Epoch 27/50\n",
            "640/640 [==============================] - 0s 416us/step - loss: 0.1259 - acc: 0.9922 - val_loss: 0.5037 - val_acc: 0.9688\n",
            "Epoch 28/50\n",
            "640/640 [==============================] - 0s 408us/step - loss: 0.1259 - acc: 0.9922 - val_loss: 0.5037 - val_acc: 0.9688\n",
            "Epoch 29/50\n",
            "640/640 [==============================] - 0s 400us/step - loss: 0.1259 - acc: 0.9922 - val_loss: 0.5037 - val_acc: 0.9688\n",
            "Epoch 30/50\n",
            "640/640 [==============================] - 0s 399us/step - loss: 0.1259 - acc: 0.9922 - val_loss: 0.5037 - val_acc: 0.9688\n",
            "Epoch 31/50\n",
            "640/640 [==============================] - 0s 399us/step - loss: 0.1259 - acc: 0.9922 - val_loss: 0.5037 - val_acc: 0.9688\n",
            "Epoch 32/50\n",
            "640/640 [==============================] - 0s 425us/step - loss: 0.1259 - acc: 0.9922 - val_loss: 0.5037 - val_acc: 0.9688\n",
            "Epoch 33/50\n",
            "640/640 [==============================] - 0s 401us/step - loss: 0.1259 - acc: 0.9922 - val_loss: 0.5037 - val_acc: 0.9688\n",
            "Epoch 34/50\n",
            "640/640 [==============================] - 0s 404us/step - loss: 0.1259 - acc: 0.9922 - val_loss: 0.5037 - val_acc: 0.9688\n",
            "Epoch 35/50\n",
            "640/640 [==============================] - 0s 397us/step - loss: 0.1259 - acc: 0.9922 - val_loss: 0.5037 - val_acc: 0.9688\n",
            "Epoch 36/50\n",
            "640/640 [==============================] - 0s 409us/step - loss: 0.1259 - acc: 0.9922 - val_loss: 0.5037 - val_acc: 0.9688\n",
            "Epoch 37/50\n",
            "640/640 [==============================] - 0s 420us/step - loss: 0.1259 - acc: 0.9922 - val_loss: 0.5037 - val_acc: 0.9688\n",
            "Epoch 38/50\n",
            "640/640 [==============================] - 0s 408us/step - loss: 0.1259 - acc: 0.9922 - val_loss: 0.5037 - val_acc: 0.9688\n",
            "Epoch 39/50\n",
            "640/640 [==============================] - 0s 399us/step - loss: 0.1259 - acc: 0.9922 - val_loss: 0.5037 - val_acc: 0.9688\n",
            "Epoch 40/50\n",
            "640/640 [==============================] - 0s 399us/step - loss: 0.1259 - acc: 0.9922 - val_loss: 0.5037 - val_acc: 0.9688\n",
            "Epoch 41/50\n",
            "640/640 [==============================] - 0s 404us/step - loss: 0.1259 - acc: 0.9922 - val_loss: 0.5037 - val_acc: 0.9688\n",
            "Epoch 42/50\n",
            "640/640 [==============================] - 0s 412us/step - loss: 0.1259 - acc: 0.9922 - val_loss: 0.5037 - val_acc: 0.9688\n",
            "Epoch 43/50\n",
            "640/640 [==============================] - 0s 404us/step - loss: 0.1259 - acc: 0.9922 - val_loss: 0.5037 - val_acc: 0.9688\n",
            "Epoch 44/50\n",
            "640/640 [==============================] - 0s 402us/step - loss: 0.1259 - acc: 0.9922 - val_loss: 0.5037 - val_acc: 0.9688\n",
            "Epoch 45/50\n",
            "640/640 [==============================] - 0s 394us/step - loss: 0.1259 - acc: 0.9922 - val_loss: 0.5037 - val_acc: 0.9688\n",
            "Epoch 46/50\n",
            "640/640 [==============================] - 0s 411us/step - loss: 0.1259 - acc: 0.9922 - val_loss: 0.5037 - val_acc: 0.9688\n",
            "Epoch 47/50\n",
            "640/640 [==============================] - 0s 402us/step - loss: 0.1259 - acc: 0.9922 - val_loss: 0.5037 - val_acc: 0.9688\n",
            "Epoch 48/50\n",
            "640/640 [==============================] - 0s 399us/step - loss: 0.1259 - acc: 0.9922 - val_loss: 0.5037 - val_acc: 0.9688\n",
            "Epoch 49/50\n",
            "640/640 [==============================] - 0s 401us/step - loss: 0.1259 - acc: 0.9922 - val_loss: 0.5037 - val_acc: 0.9688\n",
            "Epoch 50/50\n",
            "640/640 [==============================] - 0s 406us/step - loss: 0.1259 - acc: 0.9922 - val_loss: 0.5037 - val_acc: 0.9688\n"
          ],
          "name": "stdout"
        },
        {
          "output_type": "execute_result",
          "data": {
            "text/plain": [
              "<keras.callbacks.History at 0x7f684b04ccd0>"
            ]
          },
          "metadata": {
            "tags": []
          },
          "execution_count": 109
        }
      ]
    },
    {
      "cell_type": "code",
      "metadata": {
        "id": "0HKjG63qT7iR",
        "colab": {
          "base_uri": "https://localhost:8080/",
          "height": 367
        },
        "outputId": "f38741fd-2cc6-4919-9cef-654ed257ba2a"
      },
      "source": [
        "plt.imshow(x_test[0, :, :, 0])\n",
        "  print y_test[0]"
      ],
      "execution_count": null,
      "outputs": [
        {
          "output_type": "stream",
          "text": [
            "[1. 0.]\n"
          ],
          "name": "stdout"
        },
        {
          "output_type": "display_data",
          "data": {
            "image/png": "[encoded data removed]",
            "text/plain": [
              "<matplotlib.figure.Figure at 0x7f684c30d6d0>"
            ]
          },
          "metadata": {
            "tags": []
          }
        }
      ]
    },
    {
      "cell_type": "code",
      "metadata": {
        "id": "GdFAqDNdTz7Z",
        "colab": {
          "base_uri": "https://localhost:8080/",
          "height": 51
        },
        "outputId": "636a9ffe-27d1-4e14-8f8f-42f330d2377b"
      },
      "source": [
        "model.evaluate(x_test.reshape(x_test.shape[0], 16384), y_test)"
      ],
      "execution_count": null,
      "outputs": [
        {
          "output_type": "stream",
          "text": [
            "200/200 [==============================] - 0s 191us/step\n"
          ],
          "name": "stdout"
        },
        {
          "output_type": "execute_result",
          "data": {
            "text/plain": [
              "[0.48354297637940136, 0.97]"
            ]
          },
          "metadata": {
            "tags": []
          },
          "execution_count": 78
        }
      ]
    },
    {
      "cell_type": "code",
      "metadata": {
        "id": "GNw05larUfl5",
        "colab": {
          "base_uri": "https://localhost:8080/",
          "height": 384
        },
        "outputId": "a7c422e0-2354-4366-da90-0623bb0f42fd"
      },
      "source": [
        "i = random.randint(0, len(x_test)-1)\n",
        "print i\n",
        "plt.imshow(x_test[i, :, :, 0])"
      ],
      "execution_count": null,
      "outputs": [
        {
          "output_type": "stream",
          "text": [
            "80\n"
          ],
          "name": "stdout"
        },
        {
          "output_type": "execute_result",
          "data": {
            "text/plain": [
              "<matplotlib.image.AxesImage at 0x7f684bf35650>"
            ]
          },
          "metadata": {
            "tags": []
          },
          "execution_count": 93
        },
        {
          "output_type": "display_data",
          "data": {
            "image/png": "[encoded data removed]",
            "text/plain": [
              "<matplotlib.figure.Figure at 0x7f684c01eed0>"
            ]
          },
          "metadata": {
            "tags": []
          }
        }
      ]
    },
    {
      "cell_type": "code",
      "metadata": {
        "id": "Bxbn64TSVIG-",
        "colab": {
          "base_uri": "https://localhost:8080/",
          "height": 34
        },
        "outputId": "e9bde091-b1b0-4771-ae85-fe9ca7549a91"
      },
      "source": [
        "int(model.predict(x_test[i, :, :, 0].reshape(1, 16384))[0][1] == 1)"
      ],
      "execution_count": null,
      "outputs": [
        {
          "output_type": "execute_result",
          "data": {
            "text/plain": [
              "0"
            ]
          },
          "metadata": {
            "tags": []
          },
          "execution_count": 94
        }
      ]
    },
    {
      "cell_type": "code",
      "metadata": {
        "id": "CvQv6GwEomWk"
      },
      "source": [
        "model = Sequential()\n",
        "model.add(Conv2D(32, kernel_size=(25, 25), strides=(1, 1),\n",
        "                 activation='relu',\n",
        "                 input_shape=input_shape))\n",
        "model.add(MaxPooling2D(pool_size=(2, 2), strides=(2, 2)))\n",
        "model.add(Conv2D(64, (5, 5), activation='relu'))\n",
        "model.add(MaxPooling2D(pool_size=(2, 2)))\n",
        "model.add(Flatten())\n",
        "model.add(Dense(200, activation='relu'))\n",
        "model.add(Dense(num_classes, activation='softmax'))"
      ],
      "execution_count": null,
      "outputs": []
    },
    {
      "cell_type": "code",
      "metadata": {
        "id": "pWX2mzKNooW9"
      },
      "source": [
        "model.compile(loss=keras.losses.categorical_crossentropy,\n",
        "              optimizer=keras.optimizers.Adam(),\n",
        "              metrics=['accuracy'])"
      ],
      "execution_count": null,
      "outputs": []
    },
    {
      "cell_type": "code",
      "metadata": {
        "id": "JaFob_tYoroK"
      },
      "source": [
        "class AccuracyHistory(keras.callbacks.Callback):\n",
        "    def on_train_begin(self, logs={}):\n",
        "        self.acc = []\n",
        "\n",
        "    def on_epoch_end(self, batch, logs={}):\n",
        "        self.acc.append(logs.get('acc'))"
      ],
      "execution_count": null,
      "outputs": []
    },
    {
      "cell_type": "code",
      "metadata": {
        "id": "JZdC6P-hotDa"
      },
      "source": [
        "history = AccuracyHistory()"
      ],
      "execution_count": null,
      "outputs": []
    },
    {
      "cell_type": "code",
      "metadata": {
        "id": "B6XMhFCmouwV",
        "colab": {
          "base_uri": "https://localhost:8080/",
          "height": 1595
        },
        "outputId": "508babce-9ddd-45cb-d2ad-036e9241e8e1"
      },
      "source": [
        "model.fit(x_train, y_train,\n",
        "          batch_size=batch_size,\n",
        "          epochs=epochs,\n",
        "          verbose=1,\n",
        "          validation_split=0.2,\n",
        "          shuffle=True,\n",
        "          callbacks=[history])"
      ],
      "execution_count": null,
      "outputs": [
        {
          "output_type": "stream",
          "text": [
            "Train on 800 samples, validate on 800 samples\n",
            "Epoch 1/10\n",
            "800/800 [==============================] - 11s 14ms/step - loss: 8.0590 - acc: 0.5000 - val_loss: 8.0590 - val_acc: 0.5000\n",
            "Epoch 2/10\n",
            "800/800 [==============================] - 11s 14ms/step - loss: 8.0590 - acc: 0.5000 - val_loss: 8.0590 - val_acc: 0.5000\n",
            "Epoch 3/10\n",
            "800/800 [==============================] - 11s 14ms/step - loss: 8.0590 - acc: 0.5000 - val_loss: 8.0590 - val_acc: 0.5000\n",
            "Epoch 4/10\n",
            "800/800 [==============================] - 11s 14ms/step - loss: 8.0590 - acc: 0.5000 - val_loss: 8.0590 - val_acc: 0.5000\n",
            "Epoch 5/10\n",
            "578/800 [====================>.........] - ETA: 2s - loss: 7.8638 - acc: 0.5121"
          ],
          "name": "stdout"
        },
        {
          "output_type": "error",
          "ename": "KeyboardInterrupt",
          "evalue": "ignored",
          "traceback": [
            "\u001b[0;31m\u001b[0m",
            "\u001b[0;31mKeyboardInterrupt\u001b[0mTraceback (most recent call last)",
            "\u001b[0;32m<ipython-input-42-f0b05ba4758c>\u001b[0m in \u001b[0;36m<module>\u001b[0;34m()\u001b[0m\n\u001b[1;32m      4\u001b[0m           \u001b[0mverbose\u001b[0m\u001b[0;34m=\u001b[0m\u001b[0;36m1\u001b[0m\u001b[0;34m,\u001b[0m\u001b[0;34m\u001b[0m\u001b[0m\n\u001b[1;32m      5\u001b[0m           \u001b[0mvalidation_data\u001b[0m\u001b[0;34m=\u001b[0m\u001b[0;34m(\u001b[0m\u001b[0mx_train\u001b[0m\u001b[0;34m,\u001b[0m \u001b[0my_train\u001b[0m\u001b[0;34m)\u001b[0m\u001b[0;34m,\u001b[0m\u001b[0;34m\u001b[0m\u001b[0m\n\u001b[0;32m----> 6\u001b[0;31m           callbacks=[history])\n\u001b[0m",
            "\u001b[0;32m/usr/local/lib/python2.7/dist-packages/keras/models.pyc\u001b[0m in \u001b[0;36mfit\u001b[0;34m(self, x, y, batch_size, epochs, verbose, callbacks, validation_split, validation_data, shuffle, class_weight, sample_weight, initial_epoch, steps_per_epoch, validation_steps, **kwargs)\u001b[0m\n\u001b[1;32m   1000\u001b[0m                               \u001b[0minitial_epoch\u001b[0m\u001b[0;34m=\u001b[0m\u001b[0minitial_epoch\u001b[0m\u001b[0;34m,\u001b[0m\u001b[0;34m\u001b[0m\u001b[0m\n\u001b[1;32m   1001\u001b[0m                               \u001b[0msteps_per_epoch\u001b[0m\u001b[0;34m=\u001b[0m\u001b[0msteps_per_epoch\u001b[0m\u001b[0;34m,\u001b[0m\u001b[0;34m\u001b[0m\u001b[0m\n\u001b[0;32m-> 1002\u001b[0;31m                               validation_steps=validation_steps)\n\u001b[0m\u001b[1;32m   1003\u001b[0m \u001b[0;34m\u001b[0m\u001b[0m\n\u001b[1;32m   1004\u001b[0m     def evaluate(self, x=None, y=None,\n",
            "\u001b[0;32m/usr/local/lib/python2.7/dist-packages/keras/engine/training.pyc\u001b[0m in \u001b[0;36mfit\u001b[0;34m(self, x, y, batch_size, epochs, verbose, callbacks, validation_split, validation_data, shuffle, class_weight, sample_weight, initial_epoch, steps_per_epoch, validation_steps, **kwargs)\u001b[0m\n\u001b[1;32m   1703\u001b[0m                               \u001b[0minitial_epoch\u001b[0m\u001b[0;34m=\u001b[0m\u001b[0minitial_epoch\u001b[0m\u001b[0;34m,\u001b[0m\u001b[0;34m\u001b[0m\u001b[0m\n\u001b[1;32m   1704\u001b[0m                               \u001b[0msteps_per_epoch\u001b[0m\u001b[0;34m=\u001b[0m\u001b[0msteps_per_epoch\u001b[0m\u001b[0;34m,\u001b[0m\u001b[0;34m\u001b[0m\u001b[0m\n\u001b[0;32m-> 1705\u001b[0;31m                               validation_steps=validation_steps)\n\u001b[0m\u001b[1;32m   1706\u001b[0m \u001b[0;34m\u001b[0m\u001b[0m\n\u001b[1;32m   1707\u001b[0m     def evaluate(self, x=None, y=None,\n",
            "\u001b[0;32m/usr/local/lib/python2.7/dist-packages/keras/engine/training.pyc\u001b[0m in \u001b[0;36m_fit_loop\u001b[0;34m(self, f, ins, out_labels, batch_size, epochs, verbose, callbacks, val_f, val_ins, shuffle, callback_metrics, initial_epoch, steps_per_epoch, validation_steps)\u001b[0m\n\u001b[1;32m   1234\u001b[0m                         \u001b[0mins_batch\u001b[0m\u001b[0;34m[\u001b[0m\u001b[0mi\u001b[0m\u001b[0;34m]\u001b[0m \u001b[0;34m=\u001b[0m \u001b[0mins_batch\u001b[0m\u001b[0;34m[\u001b[0m\u001b[0mi\u001b[0m\u001b[0;34m]\u001b[0m\u001b[0;34m.\u001b[0m\u001b[0mtoarray\u001b[0m\u001b[0;34m(\u001b[0m\u001b[0;34m)\u001b[0m\u001b[0;34m\u001b[0m\u001b[0m\n\u001b[1;32m   1235\u001b[0m \u001b[0;34m\u001b[0m\u001b[0m\n\u001b[0;32m-> 1236\u001b[0;31m                     \u001b[0mouts\u001b[0m \u001b[0;34m=\u001b[0m \u001b[0mf\u001b[0m\u001b[0;34m(\u001b[0m\u001b[0mins_batch\u001b[0m\u001b[0;34m)\u001b[0m\u001b[0;34m\u001b[0m\u001b[0m\n\u001b[0m\u001b[1;32m   1237\u001b[0m                     \u001b[0;32mif\u001b[0m \u001b[0;32mnot\u001b[0m \u001b[0misinstance\u001b[0m\u001b[0;34m(\u001b[0m\u001b[0mouts\u001b[0m\u001b[0;34m,\u001b[0m \u001b[0mlist\u001b[0m\u001b[0;34m)\u001b[0m\u001b[0;34m:\u001b[0m\u001b[0;34m\u001b[0m\u001b[0m\n\u001b[1;32m   1238\u001b[0m                         \u001b[0mouts\u001b[0m \u001b[0;34m=\u001b[0m \u001b[0;34m[\u001b[0m\u001b[0mouts\u001b[0m\u001b[0;34m]\u001b[0m\u001b[0;34m\u001b[0m\u001b[0m\n",
            "\u001b[0;32m/usr/local/lib/python2.7/dist-packages/keras/backend/tensorflow_backend.pyc\u001b[0m in \u001b[0;36m__call__\u001b[0;34m(self, inputs)\u001b[0m\n\u001b[1;32m   2480\u001b[0m         \u001b[0msession\u001b[0m \u001b[0;34m=\u001b[0m \u001b[0mget_session\u001b[0m\u001b[0;34m(\u001b[0m\u001b[0;34m)\u001b[0m\u001b[0;34m\u001b[0m\u001b[0m\n\u001b[1;32m   2481\u001b[0m         updated = session.run(fetches=fetches, feed_dict=feed_dict,\n\u001b[0;32m-> 2482\u001b[0;31m                               **self.session_kwargs)\n\u001b[0m\u001b[1;32m   2483\u001b[0m         \u001b[0;32mreturn\u001b[0m \u001b[0mupdated\u001b[0m\u001b[0;34m[\u001b[0m\u001b[0;34m:\u001b[0m\u001b[0mlen\u001b[0m\u001b[0;34m(\u001b[0m\u001b[0mself\u001b[0m\u001b[0;34m.\u001b[0m\u001b[0moutputs\u001b[0m\u001b[0;34m)\u001b[0m\u001b[0;34m]\u001b[0m\u001b[0;34m\u001b[0m\u001b[0m\n\u001b[1;32m   2484\u001b[0m \u001b[0;34m\u001b[0m\u001b[0m\n",
            "\u001b[0;32m/usr/local/lib/python2.7/dist-packages/tensorflow/python/client/session.pyc\u001b[0m in \u001b[0;36mrun\u001b[0;34m(self, fetches, feed_dict, options, run_metadata)\u001b[0m\n\u001b[1;32m    885\u001b[0m     \u001b[0;32mtry\u001b[0m\u001b[0;34m:\u001b[0m\u001b[0;34m\u001b[0m\u001b[0m\n\u001b[1;32m    886\u001b[0m       result = self._run(None, fetches, feed_dict, options_ptr,\n\u001b[0;32m--> 887\u001b[0;31m                          run_metadata_ptr)\n\u001b[0m\u001b[1;32m    888\u001b[0m       \u001b[0;32mif\u001b[0m \u001b[0mrun_metadata\u001b[0m\u001b[0;34m:\u001b[0m\u001b[0;34m\u001b[0m\u001b[0m\n\u001b[1;32m    889\u001b[0m         \u001b[0mproto_data\u001b[0m \u001b[0;34m=\u001b[0m \u001b[0mtf_session\u001b[0m\u001b[0;34m.\u001b[0m\u001b[0mTF_GetBuffer\u001b[0m\u001b[0;34m(\u001b[0m\u001b[0mrun_metadata_ptr\u001b[0m\u001b[0;34m)\u001b[0m\u001b[0;34m\u001b[0m\u001b[0m\n",
            "\u001b[0;32m/usr/local/lib/python2.7/dist-packages/tensorflow/python/client/session.pyc\u001b[0m in \u001b[0;36m_run\u001b[0;34m(self, handle, fetches, feed_dict, options, run_metadata)\u001b[0m\n\u001b[1;32m   1108\u001b[0m     \u001b[0;32mif\u001b[0m \u001b[0mfinal_fetches\u001b[0m \u001b[0;32mor\u001b[0m \u001b[0mfinal_targets\u001b[0m \u001b[0;32mor\u001b[0m \u001b[0;34m(\u001b[0m\u001b[0mhandle\u001b[0m \u001b[0;32mand\u001b[0m \u001b[0mfeed_dict_tensor\u001b[0m\u001b[0;34m)\u001b[0m\u001b[0;34m:\u001b[0m\u001b[0;34m\u001b[0m\u001b[0m\n\u001b[1;32m   1109\u001b[0m       results = self._do_run(handle, final_targets, final_fetches,\n\u001b[0;32m-> 1110\u001b[0;31m                              feed_dict_tensor, options, run_metadata)\n\u001b[0m\u001b[1;32m   1111\u001b[0m     \u001b[0;32melse\u001b[0m\u001b[0;34m:\u001b[0m\u001b[0;34m\u001b[0m\u001b[0m\n\u001b[1;32m   1112\u001b[0m       \u001b[0mresults\u001b[0m \u001b[0;34m=\u001b[0m \u001b[0;34m[\u001b[0m\u001b[0;34m]\u001b[0m\u001b[0;34m\u001b[0m\u001b[0m\n",
            "\u001b[0;32m/usr/local/lib/python2.7/dist-packages/tensorflow/python/client/session.pyc\u001b[0m in \u001b[0;36m_do_run\u001b[0;34m(self, handle, target_list, fetch_list, feed_dict, options, run_metadata)\u001b[0m\n\u001b[1;32m   1284\u001b[0m     \u001b[0;32mif\u001b[0m \u001b[0mhandle\u001b[0m \u001b[0;32mis\u001b[0m \u001b[0mNone\u001b[0m\u001b[0;34m:\u001b[0m\u001b[0;34m\u001b[0m\u001b[0m\n\u001b[1;32m   1285\u001b[0m       return self._do_call(_run_fn, feeds, fetches, targets, options,\n\u001b[0;32m-> 1286\u001b[0;31m                            run_metadata)\n\u001b[0m\u001b[1;32m   1287\u001b[0m     \u001b[0;32melse\u001b[0m\u001b[0;34m:\u001b[0m\u001b[0;34m\u001b[0m\u001b[0m\n\u001b[1;32m   1288\u001b[0m       \u001b[0;32mreturn\u001b[0m \u001b[0mself\u001b[0m\u001b[0;34m.\u001b[0m\u001b[0m_do_call\u001b[0m\u001b[0;34m(\u001b[0m\u001b[0m_prun_fn\u001b[0m\u001b[0;34m,\u001b[0m \u001b[0mhandle\u001b[0m\u001b[0;34m,\u001b[0m \u001b[0mfeeds\u001b[0m\u001b[0;34m,\u001b[0m \u001b[0mfetches\u001b[0m\u001b[0;34m)\u001b[0m\u001b[0;34m\u001b[0m\u001b[0m\n",
            "\u001b[0;32m/usr/local/lib/python2.7/dist-packages/tensorflow/python/client/session.pyc\u001b[0m in \u001b[0;36m_do_call\u001b[0;34m(self, fn, *args)\u001b[0m\n\u001b[1;32m   1290\u001b[0m   \u001b[0;32mdef\u001b[0m \u001b[0m_do_call\u001b[0m\u001b[0;34m(\u001b[0m\u001b[0mself\u001b[0m\u001b[0;34m,\u001b[0m \u001b[0mfn\u001b[0m\u001b[0;34m,\u001b[0m \u001b[0;34m*\u001b[0m\u001b[0margs\u001b[0m\u001b[0;34m)\u001b[0m\u001b[0;34m:\u001b[0m\u001b[0;34m\u001b[0m\u001b[0m\n\u001b[1;32m   1291\u001b[0m     \u001b[0;32mtry\u001b[0m\u001b[0;34m:\u001b[0m\u001b[0;34m\u001b[0m\u001b[0m\n\u001b[0;32m-> 1292\u001b[0;31m       \u001b[0;32mreturn\u001b[0m \u001b[0mfn\u001b[0m\u001b[0;34m(\u001b[0m\u001b[0;34m*\u001b[0m\u001b[0margs\u001b[0m\u001b[0;34m)\u001b[0m\u001b[0;34m\u001b[0m\u001b[0m\n\u001b[0m\u001b[1;32m   1293\u001b[0m     \u001b[0;32mexcept\u001b[0m \u001b[0merrors\u001b[0m\u001b[0;34m.\u001b[0m\u001b[0mOpError\u001b[0m \u001b[0;32mas\u001b[0m \u001b[0me\u001b[0m\u001b[0;34m:\u001b[0m\u001b[0;34m\u001b[0m\u001b[0m\n\u001b[1;32m   1294\u001b[0m       \u001b[0mmessage\u001b[0m \u001b[0;34m=\u001b[0m \u001b[0mcompat\u001b[0m\u001b[0;34m.\u001b[0m\u001b[0mas_text\u001b[0m\u001b[0;34m(\u001b[0m\u001b[0me\u001b[0m\u001b[0;34m.\u001b[0m\u001b[0mmessage\u001b[0m\u001b[0;34m)\u001b[0m\u001b[0;34m\u001b[0m\u001b[0m\n",
            "\u001b[0;32m/usr/local/lib/python2.7/dist-packages/tensorflow/python/client/session.pyc\u001b[0m in \u001b[0;36m_run_fn\u001b[0;34m(feed_dict, fetch_list, target_list, options, run_metadata)\u001b[0m\n\u001b[1;32m   1275\u001b[0m       \u001b[0mself\u001b[0m\u001b[0;34m.\u001b[0m\u001b[0m_extend_graph\u001b[0m\u001b[0;34m(\u001b[0m\u001b[0;34m)\u001b[0m\u001b[0;34m\u001b[0m\u001b[0m\n\u001b[1;32m   1276\u001b[0m       return self._call_tf_sessionrun(\n\u001b[0;32m-> 1277\u001b[0;31m           options, feed_dict, fetch_list, target_list, run_metadata)\n\u001b[0m\u001b[1;32m   1278\u001b[0m \u001b[0;34m\u001b[0m\u001b[0m\n\u001b[1;32m   1279\u001b[0m     \u001b[0;32mdef\u001b[0m \u001b[0m_prun_fn\u001b[0m\u001b[0;34m(\u001b[0m\u001b[0mhandle\u001b[0m\u001b[0;34m,\u001b[0m \u001b[0mfeed_dict\u001b[0m\u001b[0;34m,\u001b[0m \u001b[0mfetch_list\u001b[0m\u001b[0;34m)\u001b[0m\u001b[0;34m:\u001b[0m\u001b[0;34m\u001b[0m\u001b[0m\n",
            "\u001b[0;32m/usr/local/lib/python2.7/dist-packages/tensorflow/python/client/session.pyc\u001b[0m in \u001b[0;36m_call_tf_sessionrun\u001b[0;34m(self, options, feed_dict, fetch_list, target_list, run_metadata)\u001b[0m\n\u001b[1;32m   1365\u001b[0m     return tf_session.TF_SessionRun_wrapper(\n\u001b[1;32m   1366\u001b[0m         \u001b[0mself\u001b[0m\u001b[0;34m.\u001b[0m\u001b[0m_session\u001b[0m\u001b[0;34m,\u001b[0m \u001b[0moptions\u001b[0m\u001b[0;34m,\u001b[0m \u001b[0mfeed_dict\u001b[0m\u001b[0;34m,\u001b[0m \u001b[0mfetch_list\u001b[0m\u001b[0;34m,\u001b[0m \u001b[0mtarget_list\u001b[0m\u001b[0;34m,\u001b[0m\u001b[0;34m\u001b[0m\u001b[0m\n\u001b[0;32m-> 1367\u001b[0;31m         run_metadata)\n\u001b[0m\u001b[1;32m   1368\u001b[0m \u001b[0;34m\u001b[0m\u001b[0m\n\u001b[1;32m   1369\u001b[0m   \u001b[0;32mdef\u001b[0m \u001b[0m_call_tf_sessionprun\u001b[0m\u001b[0;34m(\u001b[0m\u001b[0mself\u001b[0m\u001b[0;34m,\u001b[0m \u001b[0mhandle\u001b[0m\u001b[0;34m,\u001b[0m \u001b[0mfeed_dict\u001b[0m\u001b[0;34m,\u001b[0m \u001b[0mfetch_list\u001b[0m\u001b[0;34m)\u001b[0m\u001b[0;34m:\u001b[0m\u001b[0;34m\u001b[0m\u001b[0m\n",
            "\u001b[0;31mKeyboardInterrupt\u001b[0m: "
          ]
        }
      ]
    },
    {
      "cell_type": "code",
      "metadata": {
        "id": "GlTLQQRhowbo",
        "colab": {
          "base_uri": "https://localhost:8080/",
          "height": 395
        },
        "outputId": "84009624-e30b-4f31-d708-0d8e6b990d12"
      },
      "source": [
        "score = model.evaluate(x_test, y_test, verbose=0)\n",
        "print('Test loss:', score[0])\n",
        "print('Test accuracy:', score[1])\n",
        "plt.plot(range(1, 11), history.acc)\n",
        "plt.xlabel('Epochs')\n",
        "plt.ylabel('Accuracy')\n",
        "plt.show()"
      ],
      "execution_count": null,
      "outputs": [
        {
          "output_type": "stream",
          "text": [
            "('Test loss:', 8.059047756195076)\n",
            "('Test accuracy:', 0.5)\n"
          ],
          "name": "stdout"
        },
        {
          "output_type": "display_data",
          "data": {
            "image/png": "[encoded data removed]",
            "text/plain": [
              "<matplotlib.figure.Figure at 0x7f68516c0690>"
            ]
          },
          "metadata": {
            "tags": []
          }
        }
      ]
    },
    {
      "cell_type": "code",
      "metadata": {
        "id": "nHSLij6G-qED",
        "colab": {
          "base_uri": "https://localhost:8080/",
          "height": 34
        },
        "outputId": "1ee3aa0e-2b07-44ec-97b8-afb7d5627df4"
      },
      "source": [
        "!ls /root/"
      ],
      "execution_count": null,
      "outputs": [
        {
          "output_type": "stream",
          "text": [
            "data  data2  data3\n"
          ],
          "name": "stdout"
        }
      ]
    },
    {
      "cell_type": "code",
      "metadata": {
        "id": "V4QtOPDt1Y3S",
        "colab": {
          "base_uri": "https://localhost:8080/",
          "height": 8517
        },
        "outputId": "c90e6403-d6cd-40d5-f4a9-06ee3c1ce705"
      },
      "source": [
        "class1_data = []\n",
        "for fp in glob.glob('/root/data/*.tif'):\n",
        "  print fp\n",
        "  with tifffile.TiffFile(fp) as tif:\n",
        "    data = tif.asarray()\n",
        "#     data = scipy.ndimage.zoom(data, zoom=0.25)\n",
        "    class1_data.append(data)"
      ],
      "execution_count": null,
      "outputs": [
        {
          "output_type": "stream",
          "text": [
            "/root/data/trainingSet2_0243.tif\n",
            "/root/data/trainingSet2_0461.tif\n",
            "/root/data/trainingSet2_0436.tif\n",
            "/root/data/trainingSet2_0154.tif\n",
            "/root/data/trainingSet2_0397.tif\n",
            "/root/data/trainingSet2_0419.tif\n",
            "/root/data/trainingSet2_0113.tif\n",
            "/root/data/trainingSet2_0254.tif\n",
            "/root/data/trainingSet2_0139.tif\n",
            "/root/data/trainingSet2_0019.tif\n",
            "/root/data/trainingSet2_0382.tif\n",
            "/root/data/trainingSet2_0400.tif\n",
            "/root/data/trainingSet2_0219.tif\n",
            "/root/data/trainingSet2_0157.tif\n",
            "/root/data/trainingSet2_0185.tif\n",
            "/root/data/trainingSet2_0443.tif\n",
            "/root/data/trainingSet2_0066.tif\n",
            "/root/data/trainingSet2_0304.tif\n",
            "/root/data/trainingSet2_0318.tif\n",
            "/root/data/trainingSet2_0026.tif\n",
            "/root/data/trainingSet2_0500.tif\n",
            "/root/data/trainingSet2_0060.tif\n",
            "/root/data/trainingSet2_0125.tif\n",
            "/root/data/trainingSet2_0294.tif\n",
            "/root/data/trainingSet2_0073.tif\n",
            "/root/data/trainingSet2_0448.tif\n",
            "/root/data/trainingSet2_0438.tif\n",
            "/root/data/trainingSet2_0259.tif\n",
            "/root/data/trainingSet2_0161.tif\n",
            "/root/data/trainingSet2_0367.tif\n",
            "/root/data/trainingSet2_0078.tif\n",
            "/root/data/trainingSet2_0421.tif\n",
            "/root/data/trainingSet2_0159.tif\n",
            "/root/data/trainingSet2_0120.tif\n",
            "/root/data/trainingSet2_0271.tif\n",
            "/root/data/trainingSet2_0160.tif\n",
            "/root/data/trainingSet2_0256.tif\n",
            "/root/data/trainingSet2_0110.tif\n",
            "/root/data/trainingSet2_0368.tif\n",
            "/root/data/trainingSet2_0224.tif\n",
            "/root/data/trainingSet2_0141.tif\n",
            "/root/data/trainingSet2_0031.tif\n",
            "/root/data/trainingSet2_0363.tif\n",
            "/root/data/trainingSet2_0437.tif\n",
            "/root/data/trainingSet2_0213.tif\n",
            "/root/data/trainingSet2_0261.tif\n",
            "/root/data/trainingSet2_0048.tif\n",
            "/root/data/trainingSet2_0006.tif\n",
            "/root/data/trainingSet2_0424.tif\n",
            "/root/data/trainingSet2_0268.tif\n",
            "/root/data/trainingSet2_0460.tif\n",
            "/root/data/trainingSet2_0490.tif\n",
            "/root/data/trainingSet2_0079.tif\n",
            "/root/data/trainingSet2_0210.tif\n",
            "/root/data/trainingSet2_0098.tif\n",
            "/root/data/trainingSet2_0082.tif\n",
            "/root/data/trainingSet2_0328.tif\n",
            "/root/data/trainingSet2_0040.tif\n",
            "/root/data/trainingSet2_0062.tif\n",
            "/root/data/trainingSet2_0016.tif\n",
            "/root/data/trainingSet2_0211.tif\n",
            "/root/data/trainingSet2_0361.tif\n",
            "/root/data/trainingSet2_0069.tif\n",
            "/root/data/trainingSet2_0262.tif\n",
            "/root/data/trainingSet2_0122.tif\n",
            "/root/data/trainingSet2_0081.tif\n",
            "/root/data/trainingSet2_0209.tif\n",
            "/root/data/trainingSet2_0312.tif\n",
            "/root/data/trainingSet2_0032.tif\n",
            "/root/data/trainingSet2_0240.tif\n",
            "/root/data/trainingSet2_0341.tif\n",
            "/root/data/trainingSet2_0270.tif\n",
            "/root/data/trainingSet2_0300.tif\n",
            "/root/data/trainingSet2_0144.tif\n",
            "/root/data/trainingSet2_0004.tif\n",
            "/root/data/trainingSet2_0311.tif\n",
            "/root/data/trainingSet2_0445.tif\n",
            "/root/data/trainingSet2_0132.tif\n",
            "/root/data/trainingSet2_0241.tif\n",
            "/root/data/trainingSet2_0106.tif\n",
            "/root/data/trainingSet2_0391.tif\n",
            "/root/data/trainingSet2_0020.tif\n",
            "/root/data/trainingSet2_0272.tif\n",
            "/root/data/trainingSet2_0489.tif\n",
            "/root/data/trainingSet2_0477.tif\n",
            "/root/data/trainingSet2_0067.tif\n",
            "/root/data/trainingSet2_0458.tif\n",
            "/root/data/trainingSet2_0102.tif\n",
            "/root/data/trainingSet2_0088.tif\n",
            "/root/data/trainingSet2_0112.tif\n",
            "/root/data/trainingSet2_0052.tif\n",
            "/root/data/trainingSet2_0133.tif\n",
            "/root/data/trainingSet2_0404.tif\n",
            "/root/data/trainingSet2_0011.tif\n",
            "/root/data/trainingSet2_0030.tif\n",
            "/root/data/trainingSet2_0310.tif\n",
            "/root/data/trainingSet2_0455.tif\n",
            "/root/data/trainingSet2_0485.tif\n",
            "/root/data/trainingSet2_0149.tif\n",
            "/root/data/trainingSet2_0290.tif\n",
            "/root/data/trainingSet2_0281.tif\n",
            "/root/data/trainingSet2_0045.tif\n",
            "/root/data/trainingSet2_0246.tif\n",
            "/root/data/trainingSet2_0162.tif\n",
            "/root/data/trainingSet2_0155.tif\n",
            "/root/data/trainingSet2_0226.tif\n",
            "/root/data/trainingSet2_0418.tif\n",
            "/root/data/trainingSet2_0146.tif\n",
            "/root/data/trainingSet2_0260.tif\n",
            "/root/data/trainingSet2_0479.tif\n",
            "/root/data/trainingSet2_0118.tif\n",
            "/root/data/trainingSet2_0119.tif\n",
            "/root/data/trainingSet2_0123.tif\n",
            "/root/data/trainingSet2_0037.tif\n",
            "/root/data/trainingSet2_0150.tif\n",
            "/root/data/trainingSet2_0355.tif\n",
            "/root/data/trainingSet2_0103.tif\n",
            "/root/data/trainingSet2_0447.tif\n",
            "/root/data/trainingSet2_0204.tif\n",
            "/root/data/trainingSet2_0277.tif\n",
            "/root/data/trainingSet2_0116.tif\n",
            "/root/data/trainingSet2_0076.tif\n",
            "/root/data/trainingSet2_0431.tif\n",
            "/root/data/trainingSet2_0446.tif\n",
            "/root/data/trainingSet2_0303.tif\n",
            "/root/data/trainingSet2_0449.tif\n",
            "/root/data/trainingSet2_0152.tif\n",
            "/root/data/trainingSet2_0335.tif\n",
            "/root/data/trainingSet2_0138.tif\n",
            "/root/data/trainingSet2_0108.tif\n",
            "/root/data/trainingSet2_0099.tif\n",
            "/root/data/trainingSet2_0494.tif\n",
            "/root/data/trainingSet2_0010.tif\n",
            "/root/data/trainingSet2_0358.tif\n",
            "/root/data/trainingSet2_0320.tif\n",
            "/root/data/trainingSet2_0200.tif\n",
            "/root/data/trainingSet2_0216.tif\n",
            "/root/data/trainingSet2_0186.tif\n",
            "/root/data/trainingSet2_0033.tif\n",
            "/root/data/trainingSet2_0499.tif\n",
            "/root/data/trainingSet2_0326.tif\n",
            "/root/data/trainingSet2_0487.tif\n",
            "/root/data/trainingSet2_0453.tif\n",
            "/root/data/trainingSet2_0053.tif\n",
            "/root/data/trainingSet2_0379.tif\n",
            "/root/data/trainingSet2_0104.tif\n",
            "/root/data/trainingSet2_0288.tif\n",
            "/root/data/trainingSet2_0336.tif\n",
            "/root/data/trainingSet2_0046.tif\n",
            "/root/data/trainingSet2_0295.tif\n",
            "/root/data/trainingSet2_0333.tif\n",
            "/root/data/trainingSet2_0174.tif\n",
            "/root/data/trainingSet2_0047.tif\n",
            "/root/data/trainingSet2_0229.tif\n",
            "/root/data/trainingSet2_0376.tif\n",
            "/root/data/trainingSet2_0403.tif\n",
            "/root/data/trainingSet2_0087.tif\n",
            "/root/data/trainingSet2_0425.tif\n",
            "/root/data/trainingSet2_0273.tif\n",
            "/root/data/trainingSet2_0321.tif\n",
            "/root/data/trainingSet2_0297.tif\n",
            "/root/data/trainingSet2_0265.tif\n",
            "/root/data/trainingSet2_0085.tif\n",
            "/root/data/trainingSet2_0433.tif\n",
            "/root/data/trainingSet2_0151.tif\n",
            "/root/data/trainingSet2_0164.tif\n",
            "/root/data/trainingSet2_0347.tif\n",
            "/root/data/trainingSet2_0432.tif\n",
            "/root/data/trainingSet2_0236.tif\n",
            "/root/data/trainingSet2_0346.tif\n",
            "/root/data/trainingSet2_0165.tif\n",
            "/root/data/trainingSet2_0462.tif\n",
            "/root/data/trainingSet2_0207.tif\n",
            "/root/data/trainingSet2_0296.tif\n",
            "/root/data/trainingSet2_0148.tif\n",
            "/root/data/trainingSet2_0145.tif\n",
            "/root/data/trainingSet2_0357.tif\n",
            "/root/data/trainingSet2_0100.tif\n",
            "/root/data/trainingSet2_0402.tif\n",
            "/root/data/trainingSet2_0153.tif\n",
            "/root/data/trainingSet2_0142.tif\n",
            "/root/data/trainingSet2_0278.tif\n",
            "/root/data/trainingSet2_0472.tif\n",
            "/root/data/trainingSet2_0471.tif\n",
            "/root/data/trainingSet2_0187.tif\n",
            "/root/data/trainingSet2_0172.tif\n",
            "/root/data/trainingSet2_0342.tif\n",
            "/root/data/trainingSet2_0201.tif\n",
            "/root/data/trainingSet2_0232.tif\n",
            "/root/data/trainingSet2_0124.tif\n",
            "/root/data/trainingSet2_0196.tif\n",
            "/root/data/trainingSet2_0127.tif\n",
            "/root/data/trainingSet2_0134.tif\n",
            "/root/data/trainingSet2_0064.tif\n",
            "/root/data/trainingSet2_0077.tif\n",
            "/root/data/trainingSet2_0420.tif\n",
            "/root/data/trainingSet2_0497.tif\n",
            "/root/data/trainingSet2_0343.tif\n",
            "/root/data/trainingSet2_0074.tif\n",
            "/root/data/trainingSet2_0380.tif\n",
            "/root/data/trainingSet2_0429.tif\n",
            "/root/data/trainingSet2_0107.tif\n",
            "/root/data/trainingSet2_0349.tif\n",
            "/root/data/trainingSet2_0350.tif\n",
            "/root/data/trainingSet2_0237.tif\n",
            "/root/data/trainingSet2_0225.tif\n",
            "/root/data/trainingSet2_0034.tif\n",
            "/root/data/trainingSet2_0203.tif\n",
            "/root/data/trainingSet2_0051.tif\n",
            "/root/data/trainingSet2_0498.tif\n",
            "/root/data/trainingSet2_0093.tif\n",
            "/root/data/trainingSet2_0181.tif\n",
            "/root/data/trainingSet2_0373.tif\n",
            "/root/data/trainingSet2_0267.tif\n",
            "/root/data/trainingSet2_0238.tif\n",
            "/root/data/trainingSet2_0484.tif\n",
            "/root/data/trainingSet2_0061.tif\n",
            "/root/data/trainingSet2_0309.tif\n",
            "/root/data/trainingSet2_0291.tif\n",
            "/root/data/trainingSet2_0305.tif\n",
            "/root/data/trainingSet2_0028.tif\n",
            "/root/data/trainingSet2_0223.tif\n",
            "/root/data/trainingSet2_0351.tif\n",
            "/root/data/trainingSet2_0406.tif\n",
            "/root/data/trainingSet2_0468.tif\n",
            "/root/data/trainingSet2_0417.tif\n",
            "/root/data/trainingSet2_0071.tif\n",
            "/root/data/trainingSet2_0369.tif\n",
            "/root/data/trainingSet2_0156.tif\n",
            "/root/data/trainingSet2_0317.tif\n",
            "/root/data/trainingSet2_0286.tif\n",
            "/root/data/trainingSet2_0289.tif\n",
            "/root/data/trainingSet2_0473.tif\n",
            "/root/data/trainingSet2_0483.tif\n",
            "/root/data/trainingSet2_0372.tif\n",
            "/root/data/trainingSet2_0450.tif\n",
            "/root/data/trainingSet2_0459.tif\n",
            "/root/data/trainingSet2_0075.tif\n",
            "/root/data/trainingSet2_0413.tif\n",
            "/root/data/trainingSet2_0166.tif\n",
            "/root/data/trainingSet2_0428.tif\n",
            "/root/data/trainingSet2_0042.tif\n",
            "/root/data/trainingSet2_0059.tif\n",
            "/root/data/trainingSet2_0475.tif\n",
            "/root/data/trainingSet2_0331.tif\n",
            "/root/data/trainingSet2_0319.tif\n",
            "/root/data/trainingSet2_0084.tif\n",
            "/root/data/trainingSet2_0452.tif\n",
            "/root/data/trainingSet2_0233.tif\n",
            "/root/data/trainingSet2_0375.tif\n",
            "/root/data/trainingSet2_0456.tif\n",
            "/root/data/trainingSet2_0158.tif\n",
            "/root/data/trainingSet2_0220.tif\n",
            "/root/data/trainingSet2_0345.tif\n",
            "/root/data/trainingSet2_0245.tif\n",
            "/root/data/trainingSet2_0464.tif\n",
            "/root/data/trainingSet2_0482.tif\n",
            "/root/data/trainingSet2_0359.tif\n",
            "/root/data/trainingSet2_0230.tif\n",
            "/root/data/trainingSet2_0055.tif\n",
            "/root/data/trainingSet2_0101.tif\n",
            "/root/data/trainingSet2_0121.tif\n",
            "/root/data/trainingSet2_0024.tif\n",
            "/root/data/trainingSet2_0072.tif\n",
            "/root/data/trainingSet2_0025.tif\n",
            "/root/data/trainingSet2_0239.tif\n",
            "/root/data/trainingSet2_0434.tif\n",
            "/root/data/trainingSet2_0173.tif\n",
            "/root/data/trainingSet2_0491.tif\n",
            "/root/data/trainingSet2_0439.tif\n",
            "/root/data/trainingSet2_0257.tif\n",
            "/root/data/trainingSet2_0384.tif\n",
            "/root/data/trainingSet2_0423.tif\n",
            "/root/data/trainingSet2_0192.tif\n",
            "/root/data/trainingSet2_0130.tif\n",
            "/root/data/trainingSet2_0194.tif\n",
            "/root/data/trainingSet2_0381.tif\n",
            "/root/data/trainingSet2_0496.tif\n",
            "/root/data/trainingSet2_0208.tif\n",
            "/root/data/trainingSet2_0178.tif\n",
            "/root/data/trainingSet2_0337.tif\n",
            "/root/data/trainingSet2_0091.tif\n",
            "/root/data/trainingSet2_0467.tif\n",
            "/root/data/trainingSet2_0205.tif\n",
            "/root/data/trainingSet2_0168.tif\n",
            "/root/data/trainingSet2_0012.tif\n",
            "/root/data/trainingSet2_0249.tif\n",
            "/root/data/trainingSet2_0315.tif\n",
            "/root/data/trainingSet2_0457.tif\n",
            "/root/data/trainingSet2_0126.tif\n",
            "/root/data/trainingSet2_0089.tif\n",
            "/root/data/trainingSet2_0184.tif\n",
            "/root/data/trainingSet2_0253.tif\n",
            "/root/data/trainingSet2_0454.tif\n",
            "/root/data/trainingSet2_0244.tif\n",
            "/root/data/trainingSet2_0398.tif\n",
            "/root/data/trainingSet2_0444.tif\n",
            "/root/data/trainingSet2_0111.tif\n",
            "/root/data/trainingSet2_0488.tif\n",
            "/root/data/trainingSet2_0115.tif\n",
            "/root/data/trainingSet2_0301.tif\n",
            "/root/data/trainingSet2_0215.tif\n",
            "/root/data/trainingSet2_0377.tif\n",
            "/root/data/trainingSet2_0340.tif\n",
            "/root/data/trainingSet2_0014.tif\n",
            "/root/data/trainingSet2_0147.tif\n",
            "/root/data/trainingSet2_0252.tif\n",
            "/root/data/trainingSet2_0386.tif\n",
            "/root/data/trainingSet2_0183.tif\n",
            "/root/data/trainingSet2_0095.tif\n",
            "/root/data/trainingSet2_0407.tif\n",
            "/root/data/trainingSet2_0177.tif\n",
            "/root/data/trainingSet2_0136.tif\n",
            "/root/data/trainingSet2_0022.tif\n",
            "/root/data/trainingSet2_0090.tif\n",
            "/root/data/trainingSet2_0218.tif\n",
            "/root/data/trainingSet2_0323.tif\n",
            "/root/data/trainingSet2_0021.tif\n",
            "/root/data/trainingSet2_0360.tif\n",
            "/root/data/trainingSet2_0235.tif\n",
            "/root/data/trainingSet2_0348.tif\n",
            "/root/data/trainingSet2_0405.tif\n",
            "/root/data/trainingSet2_0117.tif\n",
            "/root/data/trainingSet2_0221.tif\n",
            "/root/data/trainingSet2_0332.tif\n",
            "/root/data/trainingSet2_0274.tif\n",
            "/root/data/trainingSet2_0287.tif\n",
            "/root/data/trainingSet2_0163.tif\n",
            "/root/data/trainingSet2_0327.tif\n",
            "/root/data/trainingSet2_0364.tif\n",
            "/root/data/trainingSet2_0408.tif\n",
            "/root/data/trainingSet2_0017.tif\n",
            "/root/data/trainingSet2_0275.tif\n",
            "/root/data/trainingSet2_0013.tif\n",
            "/root/data/trainingSet2_0035.tif\n",
            "/root/data/trainingSet2_0094.tif\n",
            "/root/data/trainingSet2_0222.tif\n",
            "/root/data/trainingSet2_0414.tif\n",
            "/root/data/trainingSet2_0492.tif\n",
            "/root/data/trainingSet2_0231.tif\n",
            "/root/data/trainingSet2_0007.tif\n",
            "/root/data/trainingSet2_0023.tif\n",
            "/root/data/trainingSet2_0442.tif\n",
            "/root/data/trainingSet2_0197.tif\n",
            "/root/data/trainingSet2_0001.tif\n",
            "/root/data/trainingSet2_0314.tif\n",
            "/root/data/trainingSet2_0002.tif\n",
            "/root/data/trainingSet2_0440.tif\n",
            "/root/data/trainingSet2_0266.tif\n",
            "/root/data/trainingSet2_0385.tif\n",
            "/root/data/trainingSet2_0044.tif\n",
            "/root/data/trainingSet2_0324.tif\n",
            "/root/data/trainingSet2_0435.tif\n",
            "/root/data/trainingSet2_0412.tif\n",
            "/root/data/trainingSet2_0129.tif\n",
            "/root/data/trainingSet2_0258.tif\n",
            "/root/data/trainingSet2_0395.tif\n",
            "/root/data/trainingSet2_0105.tif\n",
            "/root/data/trainingSet2_0339.tif\n",
            "/root/data/trainingSet2_0344.tif\n",
            "/root/data/trainingSet2_0427.tif\n",
            "/root/data/trainingSet2_0128.tif\n",
            "/root/data/trainingSet2_0189.tif\n",
            "/root/data/trainingSet2_0299.tif\n",
            "/root/data/trainingSet2_0476.tif\n",
            "/root/data/trainingSet2_0171.tif\n",
            "/root/data/trainingSet2_0212.tif\n",
            "/root/data/trainingSet2_0383.tif\n",
            "/root/data/trainingSet2_0199.tif\n",
            "/root/data/trainingSet2_0493.tif\n",
            "/root/data/trainingSet2_0486.tif\n",
            "/root/data/trainingSet2_0276.tif\n",
            "/root/data/trainingSet2_0109.tif\n",
            "/root/data/trainingSet2_0228.tif\n",
            "/root/data/trainingSet2_0188.tif\n",
            "/root/data/trainingSet2_0198.tif\n",
            "/root/data/trainingSet2_0352.tif\n",
            "/root/data/trainingSet2_0307.tif\n",
            "/root/data/trainingSet2_0422.tif\n",
            "/root/data/trainingSet2_0242.tif\n",
            "/root/data/trainingSet2_0003.tif\n",
            "/root/data/trainingSet2_0388.tif\n",
            "/root/data/trainingSet2_0416.tif\n",
            "/root/data/trainingSet2_0009.tif\n",
            "/root/data/trainingSet2_0480.tif\n",
            "/root/data/trainingSet2_0248.tif\n",
            "/root/data/trainingSet2_0167.tif\n",
            "/root/data/trainingSet2_0298.tif\n",
            "/root/data/trainingSet2_0478.tif\n",
            "/root/data/trainingSet2_0365.tif\n",
            "/root/data/trainingSet2_0378.tif\n",
            "/root/data/trainingSet2_0474.tif\n",
            "/root/data/trainingSet2_0392.tif\n",
            "/root/data/trainingSet2_0018.tif\n",
            "/root/data/trainingSet2_0176.tif\n",
            "/root/data/trainingSet2_0302.tif\n",
            "/root/data/trainingSet2_0399.tif\n",
            "/root/data/trainingSet2_0182.tif\n",
            "/root/data/trainingSet2_0293.tif\n",
            "/root/data/trainingSet2_0463.tif\n",
            "/root/data/trainingSet2_0250.tif\n",
            "/root/data/trainingSet2_0137.tif\n",
            "/root/data/trainingSet2_0015.tif\n",
            "/root/data/trainingSet2_0325.tif\n",
            "/root/data/trainingSet2_0322.tif\n",
            "/root/data/trainingSet2_0191.tif\n",
            "/root/data/trainingSet2_0058.tif\n",
            "/root/data/trainingSet2_0049.tif\n",
            "/root/data/trainingSet2_0356.tif\n",
            "/root/data/trainingSet2_0169.tif\n",
            "/root/data/trainingSet2_0140.tif\n",
            "/root/data/trainingSet2_0313.tif\n",
            "/root/data/trainingSet2_0466.tif\n",
            "/root/data/trainingSet2_0041.tif\n",
            "/root/data/trainingSet2_0410.tif\n",
            "/root/data/trainingSet2_0217.tif\n",
            "/root/data/trainingSet2_0005.tif\n",
            "/root/data/trainingSet2_0043.tif\n",
            "/root/data/trainingSet2_0096.tif\n",
            "/root/data/trainingSet2_0131.tif\n",
            "/root/data/trainingSet2_0065.tif\n",
            "/root/data/trainingSet2_0092.tif\n",
            "/root/data/trainingSet2_0114.tif\n",
            "/root/data/trainingSet2_0495.tif\n",
            "/root/data/trainingSet2_0206.tif\n",
            "/root/data/trainingSet2_0306.tif\n",
            "/root/data/trainingSet2_0285.tif\n",
            "/root/data/trainingSet2_0366.tif\n",
            "/root/data/trainingSet2_0170.tif\n",
            "/root/data/trainingSet2_0097.tif\n",
            "/root/data/trainingSet2_0234.tif\n",
            "/root/data/trainingSet2_0282.tif\n",
            "/root/data/trainingSet2_0354.tif\n",
            "/root/data/trainingSet2_0465.tif\n",
            "/root/data/trainingSet2_0362.tif\n",
            "/root/data/trainingSet2_0338.tif\n",
            "/root/data/trainingSet2_0330.tif\n",
            "/root/data/trainingSet2_0401.tif\n",
            "/root/data/trainingSet2_0190.tif\n",
            "/root/data/trainingSet2_0080.tif\n",
            "/root/data/trainingSet2_0029.tif\n",
            "/root/data/trainingSet2_0039.tif\n",
            "/root/data/trainingSet2_0308.tif\n",
            "/root/data/trainingSet2_0143.tif\n",
            "/root/data/trainingSet2_0247.tif\n",
            "/root/data/trainingSet2_0371.tif\n",
            "/root/data/trainingSet2_0083.tif\n",
            "/root/data/trainingSet2_0394.tif\n",
            "/root/data/trainingSet2_0056.tif\n",
            "/root/data/trainingSet2_0057.tif\n",
            "/root/data/trainingSet2_0264.tif\n",
            "/root/data/trainingSet2_0387.tif\n",
            "/root/data/trainingSet2_0370.tif\n",
            "/root/data/trainingSet2_0426.tif\n",
            "/root/data/trainingSet2_0280.tif\n",
            "/root/data/trainingSet2_0389.tif\n",
            "/root/data/trainingSet2_0193.tif\n",
            "/root/data/trainingSet2_0054.tif\n",
            "/root/data/trainingSet2_0036.tif\n",
            "/root/data/trainingSet2_0038.tif\n",
            "/root/data/trainingSet2_0415.tif\n",
            "/root/data/trainingSet2_0451.tif\n",
            "/root/data/trainingSet2_0263.tif\n",
            "/root/data/trainingSet2_0481.tif\n",
            "/root/data/trainingSet2_0409.tif\n",
            "/root/data/trainingSet2_0195.tif\n",
            "/root/data/trainingSet2_0334.tif\n",
            "/root/data/trainingSet2_0469.tif\n",
            "/root/data/trainingSet2_0179.tif\n",
            "/root/data/trainingSet2_0411.tif\n",
            "/root/data/trainingSet2_0070.tif\n",
            "/root/data/trainingSet2_0374.tif\n",
            "/root/data/trainingSet2_0390.tif\n",
            "/root/data/trainingSet2_0396.tif\n",
            "/root/data/trainingSet2_0202.tif\n",
            "/root/data/trainingSet2_0430.tif\n",
            "/root/data/trainingSet2_0284.tif\n",
            "/root/data/trainingSet2_0255.tif\n",
            "/root/data/trainingSet2_0068.tif\n",
            "/root/data/trainingSet2_0292.tif\n",
            "/root/data/trainingSet2_0279.tif\n",
            "/root/data/trainingSet2_0353.tif\n",
            "/root/data/trainingSet2_0441.tif\n",
            "/root/data/trainingSet2_0214.tif\n",
            "/root/data/trainingSet2_0063.tif\n",
            "/root/data/trainingSet2_0283.tif\n",
            "/root/data/trainingSet2_0050.tif\n",
            "/root/data/trainingSet2_0008.tif\n",
            "/root/data/trainingSet2_0175.tif\n",
            "/root/data/trainingSet2_0393.tif\n",
            "/root/data/trainingSet2_0329.tif\n",
            "/root/data/trainingSet2_0269.tif\n",
            "/root/data/trainingSet2_0227.tif\n",
            "/root/data/trainingSet2_0251.tif\n",
            "/root/data/trainingSet2_0470.tif\n",
            "/root/data/trainingSet2_0086.tif\n",
            "/root/data/trainingSet2_0316.tif\n",
            "/root/data/trainingSet2_0135.tif\n",
            "/root/data/trainingSet2_0027.tif\n",
            "/root/data/trainingSet2_0180.tif\n"
          ],
          "name": "stdout"
        }
      ]
    },
    {
      "cell_type": "code",
      "metadata": {
        "id": "iztG9P26_NFX",
        "colab": {
          "base_uri": "https://localhost:8080/",
          "height": 34
        },
        "outputId": "b0ae4fcb-1515-4f93-e149-5c3652448f85"
      },
      "source": [
        "len(class1_data)"
      ],
      "execution_count": null,
      "outputs": [
        {
          "output_type": "execute_result",
          "data": {
            "text/plain": [
              "500"
            ]
          },
          "metadata": {
            "tags": []
          },
          "execution_count": 17
        }
      ]
    },
    {
      "cell_type": "code",
      "metadata": {
        "id": "Xbnv_tl4IqQ3",
        "colab": {
          "base_uri": "https://localhost:8080/",
          "height": 8517
        },
        "outputId": "4e07c9e0-08fc-48ae-88e9-26b04948ab41"
      },
      "source": [
        "class3_data = []\n",
        "for fp in glob.glob('/root/data3/*.tif'):\n",
        "  print fp\n",
        "  with tifffile.TiffFile(fp) as tif:\n",
        "    data = tif.asarray()\n",
        "#     data = scipy.ndimage.zoom(data, zoom=0.25)\n",
        "    class3_data.append(data)"
      ],
      "execution_count": null,
      "outputs": [
        {
          "output_type": "stream",
          "text": [
            "/root/data3/trainingSetAu211_0112.tif\n",
            "/root/data3/trainingSetAu211_0388.tif\n",
            "/root/data3/trainingSetAu211_0326.tif\n",
            "/root/data3/trainingSetAu211_0271.tif\n",
            "/root/data3/trainingSetAu211_0354.tif\n",
            "/root/data3/trainingSetAu211_0002.tif\n",
            "/root/data3/trainingSetAu211_0121.tif\n",
            "/root/data3/trainingSetAu211_0327.tif\n",
            "/root/data3/trainingSetAu211_0458.tif\n",
            "/root/data3/trainingSetAu211_0384.tif\n",
            "/root/data3/trainingSetAu211_0239.tif\n",
            "/root/data3/trainingSetAu211_0340.tif\n",
            "/root/data3/trainingSetAu211_0087.tif\n",
            "/root/data3/trainingSetAu211_0308.tif\n",
            "/root/data3/trainingSetAu211_0316.tif\n",
            "/root/data3/trainingSetAu211_0280.tif\n",
            "/root/data3/trainingSetAu211_0140.tif\n",
            "/root/data3/trainingSetAu211_0338.tif\n",
            "/root/data3/trainingSetAu211_0364.tif\n",
            "/root/data3/trainingSetAu211_0094.tif\n",
            "/root/data3/trainingSetAu211_0324.tif\n",
            "/root/data3/trainingSetAu211_0312.tif\n",
            "/root/data3/trainingSetAu211_0021.tif\n",
            "/root/data3/trainingSetAu211_0166.tif\n",
            "/root/data3/trainingSetAu211_0429.tif\n",
            "/root/data3/trainingSetAu211_0214.tif\n",
            "/root/data3/trainingSetAu211_0232.tif\n",
            "/root/data3/trainingSetAu211_0251.tif\n",
            "/root/data3/trainingSetAu211_0132.tif\n",
            "/root/data3/trainingSetAu211_0321.tif\n",
            "/root/data3/trainingSetAu211_0054.tif\n",
            "/root/data3/trainingSetAu211_0498.tif\n",
            "/root/data3/trainingSetAu211_0331.tif\n",
            "/root/data3/trainingSetAu211_0489.tif\n",
            "/root/data3/trainingSetAu211_0445.tif\n",
            "/root/data3/trainingSetAu211_0343.tif\n",
            "/root/data3/trainingSetAu211_0213.tif\n",
            "/root/data3/trainingSetAu211_0476.tif\n",
            "/root/data3/trainingSetAu211_0064.tif\n",
            "/root/data3/trainingSetAu211_0131.tif\n",
            "/root/data3/trainingSetAu211_0425.tif\n",
            "/root/data3/trainingSetAu211_0041.tif\n",
            "/root/data3/trainingSetAu211_0436.tif\n",
            "/root/data3/trainingSetAu211_0125.tif\n",
            "/root/data3/trainingSetAu211_0342.tif\n",
            "/root/data3/trainingSetAu211_0030.tif\n",
            "/root/data3/trainingSetAu211_0153.tif\n",
            "/root/data3/trainingSetAu211_0479.tif\n",
            "/root/data3/trainingSetAu211_0085.tif\n",
            "/root/data3/trainingSetAu211_0136.tif\n",
            "/root/data3/trainingSetAu211_0396.tif\n",
            "/root/data3/trainingSetAu211_0426.tif\n",
            "/root/data3/trainingSetAu211_0432.tif\n",
            "/root/data3/trainingSetAu211_0077.tif\n",
            "/root/data3/trainingSetAu211_0275.tif\n",
            "/root/data3/trainingSetAu211_0365.tif\n",
            "/root/data3/trainingSetAu211_0076.tif\n",
            "/root/data3/trainingSetAu211_0128.tif\n",
            "/root/data3/trainingSetAu211_0441.tif\n",
            "/root/data3/trainingSetAu211_0256.tif\n",
            "/root/data3/trainingSetAu211_0070.tif\n",
            "/root/data3/trainingSetAu211_0490.tif\n",
            "/root/data3/trainingSetAu211_0055.tif\n",
            "/root/data3/trainingSetAu211_0415.tif\n",
            "/root/data3/trainingSetAu211_0456.tif\n",
            "/root/data3/trainingSetAu211_0417.tif\n",
            "/root/data3/trainingSetAu211_0310.tif\n",
            "/root/data3/trainingSetAu211_0246.tif\n",
            "/root/data3/trainingSetAu211_0126.tif\n",
            "/root/data3/trainingSetAu211_0144.tif\n",
            "/root/data3/trainingSetAu211_0295.tif\n",
            "/root/data3/trainingSetAu211_0492.tif\n",
            "/root/data3/trainingSetAu211_0097.tif\n",
            "/root/data3/trainingSetAu211_0150.tif\n",
            "/root/data3/trainingSetAu211_0012.tif\n",
            "/root/data3/trainingSetAu211_0091.tif\n",
            "/root/data3/trainingSetAu211_0454.tif\n",
            "/root/data3/trainingSetAu211_0216.tif\n",
            "/root/data3/trainingSetAu211_0278.tif\n",
            "/root/data3/trainingSetAu211_0449.tif\n",
            "/root/data3/trainingSetAu211_0003.tif\n",
            "/root/data3/trainingSetAu211_0328.tif\n",
            "/root/data3/trainingSetAu211_0238.tif\n",
            "/root/data3/trainingSetAu211_0397.tif\n",
            "/root/data3/trainingSetAu211_0500.tif\n",
            "/root/data3/trainingSetAu211_0075.tif\n",
            "/root/data3/trainingSetAu211_0014.tif\n",
            "/root/data3/trainingSetAu211_0362.tif\n",
            "/root/data3/trainingSetAu211_0320.tif\n",
            "/root/data3/trainingSetAu211_0488.tif\n",
            "/root/data3/trainingSetAu211_0385.tif\n",
            "/root/data3/trainingSetAu211_0404.tif\n",
            "/root/data3/trainingSetAu211_0233.tif\n",
            "/root/data3/trainingSetAu211_0367.tif\n",
            "/root/data3/trainingSetAu211_0473.tif\n",
            "/root/data3/trainingSetAu211_0356.tif\n",
            "/root/data3/trainingSetAu211_0148.tif\n",
            "/root/data3/trainingSetAu211_0235.tif\n",
            "/root/data3/trainingSetAu211_0205.tif\n",
            "/root/data3/trainingSetAu211_0281.tif\n",
            "/root/data3/trainingSetAu211_0378.tif\n",
            "/root/data3/trainingSetAu211_0221.tif\n",
            "/root/data3/trainingSetAu211_0241.tif\n",
            "/root/data3/trainingSetAu211_0366.tif\n",
            "/root/data3/trainingSetAu211_0421.tif\n",
            "/root/data3/trainingSetAu211_0240.tif\n",
            "/root/data3/trainingSetAu211_0134.tif\n",
            "/root/data3/trainingSetAu211_0204.tif\n",
            "/root/data3/trainingSetAu211_0475.tif\n",
            "/root/data3/trainingSetAu211_0034.tif\n",
            "/root/data3/trainingSetAu211_0152.tif\n",
            "/root/data3/trainingSetAu211_0368.tif\n",
            "/root/data3/trainingSetAu211_0252.tif\n",
            "/root/data3/trainingSetAu211_0305.tif\n",
            "/root/data3/trainingSetAu211_0063.tif\n",
            "/root/data3/trainingSetAu211_0453.tif\n",
            "/root/data3/trainingSetAu211_0149.tif\n",
            "/root/data3/trainingSetAu211_0248.tif\n",
            "/root/data3/trainingSetAu211_0393.tif\n",
            "/root/data3/trainingSetAu211_0004.tif\n",
            "/root/data3/trainingSetAu211_0480.tif\n",
            "/root/data3/trainingSetAu211_0147.tif\n",
            "/root/data3/trainingSetAu211_0383.tif\n",
            "/root/data3/trainingSetAu211_0069.tif\n",
            "/root/data3/trainingSetAu211_0201.tif\n",
            "/root/data3/trainingSetAu211_0446.tif\n",
            "/root/data3/trainingSetAu211_0110.tif\n",
            "/root/data3/trainingSetAu211_0255.tif\n",
            "/root/data3/trainingSetAu211_0025.tif\n",
            "/root/data3/trainingSetAu211_0486.tif\n",
            "/root/data3/trainingSetAu211_0466.tif\n",
            "/root/data3/trainingSetAu211_0357.tif\n",
            "/root/data3/trainingSetAu211_0263.tif\n",
            "/root/data3/trainingSetAu211_0339.tif\n",
            "/root/data3/trainingSetAu211_0001.tif\n",
            "/root/data3/trainingSetAu211_0123.tif\n",
            "/root/data3/trainingSetAu211_0102.tif\n",
            "/root/data3/trainingSetAu211_0164.tif\n",
            "/root/data3/trainingSetAu211_0165.tif\n",
            "/root/data3/trainingSetAu211_0176.tif\n",
            "/root/data3/trainingSetAu211_0056.tif\n",
            "/root/data3/trainingSetAu211_0481.tif\n",
            "/root/data3/trainingSetAu211_0029.tif\n",
            "/root/data3/trainingSetAu211_0160.tif\n",
            "/root/data3/trainingSetAu211_0193.tif\n",
            "/root/data3/trainingSetAu211_0119.tif\n",
            "/root/data3/trainingSetAu211_0049.tif\n",
            "/root/data3/trainingSetAu211_0369.tif\n",
            "/root/data3/trainingSetAu211_0333.tif\n",
            "/root/data3/trainingSetAu211_0335.tif\n",
            "/root/data3/trainingSetAu211_0300.tif\n",
            "/root/data3/trainingSetAu211_0047.tif\n",
            "/root/data3/trainingSetAu211_0173.tif\n",
            "/root/data3/trainingSetAu211_0307.tif\n",
            "/root/data3/trainingSetAu211_0217.tif\n",
            "/root/data3/trainingSetAu211_0038.tif\n",
            "/root/data3/trainingSetAu211_0292.tif\n",
            "/root/data3/trainingSetAu211_0298.tif\n",
            "/root/data3/trainingSetAu211_0411.tif\n",
            "/root/data3/trainingSetAu211_0182.tif\n",
            "/root/data3/trainingSetAu211_0114.tif\n",
            "/root/data3/trainingSetAu211_0337.tif\n",
            "/root/data3/trainingSetAu211_0230.tif\n",
            "/root/data3/trainingSetAu211_0398.tif\n",
            "/root/data3/trainingSetAu211_0402.tif\n",
            "/root/data3/trainingSetAu211_0127.tif\n",
            "/root/data3/trainingSetAu211_0443.tif\n",
            "/root/data3/trainingSetAu211_0448.tif\n",
            "/root/data3/trainingSetAu211_0389.tif\n",
            "/root/data3/trainingSetAu211_0348.tif\n",
            "/root/data3/trainingSetAu211_0257.tif\n",
            "/root/data3/trainingSetAu211_0207.tif\n",
            "/root/data3/trainingSetAu211_0301.tif\n",
            "/root/data3/trainingSetAu211_0105.tif\n",
            "/root/data3/trainingSetAu211_0341.tif\n",
            "/root/data3/trainingSetAu211_0259.tif\n",
            "/root/data3/trainingSetAu211_0072.tif\n",
            "/root/data3/trainingSetAu211_0440.tif\n",
            "/root/data3/trainingSetAu211_0090.tif\n",
            "/root/data3/trainingSetAu211_0406.tif\n",
            "/root/data3/trainingSetAu211_0117.tif\n",
            "/root/data3/trainingSetAu211_0258.tif\n",
            "/root/data3/trainingSetAu211_0437.tif\n",
            "/root/data3/trainingSetAu211_0304.tif\n",
            "/root/data3/trainingSetAu211_0218.tif\n",
            "/root/data3/trainingSetAu211_0015.tif\n",
            "/root/data3/trainingSetAu211_0044.tif\n",
            "/root/data3/trainingSetAu211_0227.tif\n",
            "/root/data3/trainingSetAu211_0107.tif\n",
            "/root/data3/trainingSetAu211_0431.tif\n",
            "/root/data3/trainingSetAu211_0043.tif\n",
            "/root/data3/trainingSetAu211_0188.tif\n",
            "/root/data3/trainingSetAu211_0083.tif\n",
            "/root/data3/trainingSetAu211_0234.tif\n",
            "/root/data3/trainingSetAu211_0372.tif\n",
            "/root/data3/trainingSetAu211_0330.tif\n",
            "/root/data3/trainingSetAu211_0212.tif\n",
            "/root/data3/trainingSetAu211_0113.tif\n",
            "/root/data3/trainingSetAu211_0169.tif\n",
            "/root/data3/trainingSetAu211_0198.tif\n",
            "/root/data3/trainingSetAu211_0162.tif\n",
            "/root/data3/trainingSetAu211_0373.tif\n",
            "/root/data3/trainingSetAu211_0474.tif\n",
            "/root/data3/trainingSetAu211_0104.tif\n",
            "/root/data3/trainingSetAu211_0359.tif\n",
            "/root/data3/trainingSetAu211_0210.tif\n",
            "/root/data3/trainingSetAu211_0391.tif\n",
            "/root/data3/trainingSetAu211_0483.tif\n",
            "/root/data3/trainingSetAu211_0228.tif\n",
            "/root/data3/trainingSetAu211_0303.tif\n",
            "/root/data3/trainingSetAu211_0092.tif\n",
            "/root/data3/trainingSetAu211_0023.tif\n",
            "/root/data3/trainingSetAu211_0410.tif\n",
            "/root/data3/trainingSetAu211_0095.tif\n",
            "/root/data3/trainingSetAu211_0422.tif\n",
            "/root/data3/trainingSetAu211_0353.tif\n",
            "/root/data3/trainingSetAu211_0262.tif\n",
            "/root/data3/trainingSetAu211_0434.tif\n",
            "/root/data3/trainingSetAu211_0035.tif\n",
            "/root/data3/trainingSetAu211_0226.tif\n",
            "/root/data3/trainingSetAu211_0191.tif\n",
            "/root/data3/trainingSetAu211_0194.tif\n",
            "/root/data3/trainingSetAu211_0192.tif\n",
            "/root/data3/trainingSetAu211_0427.tif\n",
            "/root/data3/trainingSetAu211_0028.tif\n",
            "/root/data3/trainingSetAu211_0130.tif\n",
            "/root/data3/trainingSetAu211_0008.tif\n",
            "/root/data3/trainingSetAu211_0231.tif\n",
            "/root/data3/trainingSetAu211_0229.tif\n",
            "/root/data3/trainingSetAu211_0289.tif\n",
            "/root/data3/trainingSetAu211_0086.tif\n",
            "/root/data3/trainingSetAu211_0400.tif\n",
            "/root/data3/trainingSetAu211_0282.tif\n",
            "/root/data3/trainingSetAu211_0065.tif\n",
            "/root/data3/trainingSetAu211_0100.tif\n",
            "/root/data3/trainingSetAu211_0323.tif\n",
            "/root/data3/trainingSetAu211_0159.tif\n",
            "/root/data3/trainingSetAu211_0495.tif\n",
            "/root/data3/trainingSetAu211_0499.tif\n",
            "/root/data3/trainingSetAu211_0199.tif\n",
            "/root/data3/trainingSetAu211_0276.tif\n",
            "/root/data3/trainingSetAu211_0177.tif\n",
            "/root/data3/trainingSetAu211_0186.tif\n",
            "/root/data3/trainingSetAu211_0408.tif\n",
            "/root/data3/trainingSetAu211_0370.tif\n",
            "/root/data3/trainingSetAu211_0268.tif\n",
            "/root/data3/trainingSetAu211_0243.tif\n",
            "/root/data3/trainingSetAu211_0345.tif\n",
            "/root/data3/trainingSetAu211_0089.tif\n",
            "/root/data3/trainingSetAu211_0299.tif\n",
            "/root/data3/trainingSetAu211_0178.tif\n",
            "/root/data3/trainingSetAu211_0371.tif\n",
            "/root/data3/trainingSetAu211_0412.tif\n",
            "/root/data3/trainingSetAu211_0133.tif\n",
            "/root/data3/trainingSetAu211_0361.tif\n",
            "/root/data3/trainingSetAu211_0059.tif\n",
            "/root/data3/trainingSetAu211_0137.tif\n",
            "/root/data3/trainingSetAu211_0494.tif\n",
            "/root/data3/trainingSetAu211_0363.tif\n",
            "/root/data3/trainingSetAu211_0244.tif\n",
            "/root/data3/trainingSetAu211_0285.tif\n",
            "/root/data3/trainingSetAu211_0379.tif\n",
            "/root/data3/trainingSetAu211_0444.tif\n",
            "/root/data3/trainingSetAu211_0433.tif\n",
            "/root/data3/trainingSetAu211_0465.tif\n",
            "/root/data3/trainingSetAu211_0171.tif\n",
            "/root/data3/trainingSetAu211_0253.tif\n",
            "/root/data3/trainingSetAu211_0185.tif\n",
            "/root/data3/trainingSetAu211_0266.tif\n",
            "/root/data3/trainingSetAu211_0108.tif\n",
            "/root/data3/trainingSetAu211_0387.tif\n",
            "/root/data3/trainingSetAu211_0468.tif\n",
            "/root/data3/trainingSetAu211_0039.tif\n",
            "/root/data3/trainingSetAu211_0270.tif\n",
            "/root/data3/trainingSetAu211_0062.tif\n",
            "/root/data3/trainingSetAu211_0409.tif\n",
            "/root/data3/trainingSetAu211_0294.tif\n",
            "/root/data3/trainingSetAu211_0057.tif\n",
            "/root/data3/trainingSetAu211_0439.tif\n",
            "/root/data3/trainingSetAu211_0096.tif\n",
            "/root/data3/trainingSetAu211_0116.tif\n",
            "/root/data3/trainingSetAu211_0296.tif\n",
            "/root/data3/trainingSetAu211_0496.tif\n",
            "/root/data3/trainingSetAu211_0106.tif\n",
            "/root/data3/trainingSetAu211_0247.tif\n",
            "/root/data3/trainingSetAu211_0377.tif\n",
            "/root/data3/trainingSetAu211_0288.tif\n",
            "/root/data3/trainingSetAu211_0224.tif\n",
            "/root/data3/trainingSetAu211_0098.tif\n",
            "/root/data3/trainingSetAu211_0080.tif\n",
            "/root/data3/trainingSetAu211_0319.tif\n",
            "/root/data3/trainingSetAu211_0151.tif\n",
            "/root/data3/trainingSetAu211_0399.tif\n",
            "/root/data3/trainingSetAu211_0318.tif\n",
            "/root/data3/trainingSetAu211_0093.tif\n",
            "/root/data3/trainingSetAu211_0163.tif\n",
            "/root/data3/trainingSetAu211_0156.tif\n",
            "/root/data3/trainingSetAu211_0042.tif\n",
            "/root/data3/trainingSetAu211_0016.tif\n",
            "/root/data3/trainingSetAu211_0011.tif\n",
            "/root/data3/trainingSetAu211_0006.tif\n",
            "/root/data3/trainingSetAu211_0424.tif\n",
            "/root/data3/trainingSetAu211_0022.tif\n",
            "/root/data3/trainingSetAu211_0279.tif\n",
            "/root/data3/trainingSetAu211_0225.tif\n",
            "/root/data3/trainingSetAu211_0245.tif\n",
            "/root/data3/trainingSetAu211_0172.tif\n",
            "/root/data3/trainingSetAu211_0124.tif\n",
            "/root/data3/trainingSetAu211_0260.tif\n",
            "/root/data3/trainingSetAu211_0442.tif\n",
            "/root/data3/trainingSetAu211_0058.tif\n",
            "/root/data3/trainingSetAu211_0099.tif\n",
            "/root/data3/trainingSetAu211_0236.tif\n",
            "/root/data3/trainingSetAu211_0346.tif\n",
            "/root/data3/trainingSetAu211_0018.tif\n",
            "/root/data3/trainingSetAu211_0314.tif\n",
            "/root/data3/trainingSetAu211_0435.tif\n",
            "/root/data3/trainingSetAu211_0073.tif\n",
            "/root/data3/trainingSetAu211_0181.tif\n",
            "/root/data3/trainingSetAu211_0352.tif\n",
            "/root/data3/trainingSetAu211_0332.tif\n",
            "/root/data3/trainingSetAu211_0286.tif\n",
            "/root/data3/trainingSetAu211_0438.tif\n",
            "/root/data3/trainingSetAu211_0382.tif\n",
            "/root/data3/trainingSetAu211_0419.tif\n",
            "/root/data3/trainingSetAu211_0010.tif\n",
            "/root/data3/trainingSetAu211_0129.tif\n",
            "/root/data3/trainingSetAu211_0200.tif\n",
            "/root/data3/trainingSetAu211_0175.tif\n",
            "/root/data3/trainingSetAu211_0084.tif\n",
            "/root/data3/trainingSetAu211_0158.tif\n",
            "/root/data3/trainingSetAu211_0215.tif\n",
            "/root/data3/trainingSetAu211_0033.tif\n",
            "/root/data3/trainingSetAu211_0060.tif\n",
            "/root/data3/trainingSetAu211_0460.tif\n",
            "/root/data3/trainingSetAu211_0242.tif\n",
            "/root/data3/trainingSetAu211_0471.tif\n",
            "/root/data3/trainingSetAu211_0273.tif\n",
            "/root/data3/trainingSetAu211_0302.tif\n",
            "/root/data3/trainingSetAu211_0347.tif\n",
            "/root/data3/trainingSetAu211_0360.tif\n",
            "/root/data3/trainingSetAu211_0283.tif\n",
            "/root/data3/trainingSetAu211_0142.tif\n",
            "/root/data3/trainingSetAu211_0005.tif\n",
            "/root/data3/trainingSetAu211_0457.tif\n",
            "/root/data3/trainingSetAu211_0272.tif\n",
            "/root/data3/trainingSetAu211_0211.tif\n",
            "/root/data3/trainingSetAu211_0045.tif\n",
            "/root/data3/trainingSetAu211_0485.tif\n",
            "/root/data3/trainingSetAu211_0414.tif\n",
            "/root/data3/trainingSetAu211_0195.tif\n",
            "/root/data3/trainingSetAu211_0170.tif\n",
            "/root/data3/trainingSetAu211_0067.tif\n",
            "/root/data3/trainingSetAu211_0013.tif\n",
            "/root/data3/trainingSetAu211_0146.tif\n",
            "/root/data3/trainingSetAu211_0450.tif\n",
            "/root/data3/trainingSetAu211_0053.tif\n",
            "/root/data3/trainingSetAu211_0026.tif\n",
            "/root/data3/trainingSetAu211_0168.tif\n",
            "/root/data3/trainingSetAu211_0036.tif\n",
            "/root/data3/trainingSetAu211_0459.tif\n",
            "/root/data3/trainingSetAu211_0208.tif\n",
            "/root/data3/trainingSetAu211_0017.tif\n",
            "/root/data3/trainingSetAu211_0051.tif\n",
            "/root/data3/trainingSetAu211_0420.tif\n",
            "/root/data3/trainingSetAu211_0079.tif\n",
            "/root/data3/trainingSetAu211_0430.tif\n",
            "/root/data3/trainingSetAu211_0061.tif\n",
            "/root/data3/trainingSetAu211_0115.tif\n",
            "/root/data3/trainingSetAu211_0462.tif\n",
            "/root/data3/trainingSetAu211_0138.tif\n",
            "/root/data3/trainingSetAu211_0174.tif\n",
            "/root/data3/trainingSetAu211_0311.tif\n",
            "/root/data3/trainingSetAu211_0196.tif\n",
            "/root/data3/trainingSetAu211_0416.tif\n",
            "/root/data3/trainingSetAu211_0405.tif\n",
            "/root/data3/trainingSetAu211_0220.tif\n",
            "/root/data3/trainingSetAu211_0027.tif\n",
            "/root/data3/trainingSetAu211_0375.tif\n",
            "/root/data3/trainingSetAu211_0478.tif\n",
            "/root/data3/trainingSetAu211_0497.tif\n",
            "/root/data3/trainingSetAu211_0187.tif\n",
            "/root/data3/trainingSetAu211_0111.tif\n",
            "/root/data3/trainingSetAu211_0374.tif\n",
            "/root/data3/trainingSetAu211_0455.tif\n",
            "/root/data3/trainingSetAu211_0157.tif\n",
            "/root/data3/trainingSetAu211_0297.tif\n",
            "/root/data3/trainingSetAu211_0390.tif\n",
            "/root/data3/trainingSetAu211_0183.tif\n",
            "/root/data3/trainingSetAu211_0202.tif\n",
            "/root/data3/trainingSetAu211_0180.tif\n",
            "/root/data3/trainingSetAu211_0293.tif\n",
            "/root/data3/trainingSetAu211_0284.tif\n",
            "/root/data3/trainingSetAu211_0254.tif\n",
            "/root/data3/trainingSetAu211_0206.tif\n",
            "/root/data3/trainingSetAu211_0452.tif\n",
            "/root/data3/trainingSetAu211_0024.tif\n",
            "/root/data3/trainingSetAu211_0313.tif\n",
            "/root/data3/trainingSetAu211_0329.tif\n",
            "/root/data3/trainingSetAu211_0219.tif\n",
            "/root/data3/trainingSetAu211_0237.tif\n",
            "/root/data3/trainingSetAu211_0143.tif\n",
            "/root/data3/trainingSetAu211_0141.tif\n",
            "/root/data3/trainingSetAu211_0265.tif\n",
            "/root/data3/trainingSetAu211_0290.tif\n",
            "/root/data3/trainingSetAu211_0322.tif\n",
            "/root/data3/trainingSetAu211_0403.tif\n",
            "/root/data3/trainingSetAu211_0291.tif\n",
            "/root/data3/trainingSetAu211_0261.tif\n",
            "/root/data3/trainingSetAu211_0380.tif\n",
            "/root/data3/trainingSetAu211_0184.tif\n",
            "/root/data3/trainingSetAu211_0349.tif\n",
            "/root/data3/trainingSetAu211_0223.tif\n",
            "/root/data3/trainingSetAu211_0264.tif\n",
            "/root/data3/trainingSetAu211_0423.tif\n",
            "/root/data3/trainingSetAu211_0103.tif\n",
            "/root/data3/trainingSetAu211_0120.tif\n",
            "/root/data3/trainingSetAu211_0155.tif\n",
            "/root/data3/trainingSetAu211_0267.tif\n",
            "/root/data3/trainingSetAu211_0020.tif\n",
            "/root/data3/trainingSetAu211_0050.tif\n",
            "/root/data3/trainingSetAu211_0161.tif\n",
            "/root/data3/trainingSetAu211_0032.tif\n",
            "/root/data3/trainingSetAu211_0135.tif\n",
            "/root/data3/trainingSetAu211_0078.tif\n",
            "/root/data3/trainingSetAu211_0386.tif\n",
            "/root/data3/trainingSetAu211_0336.tif\n",
            "/root/data3/trainingSetAu211_0269.tif\n",
            "/root/data3/trainingSetAu211_0189.tif\n",
            "/root/data3/trainingSetAu211_0109.tif\n",
            "/root/data3/trainingSetAu211_0376.tif\n",
            "/root/data3/trainingSetAu211_0009.tif\n",
            "/root/data3/trainingSetAu211_0401.tif\n",
            "/root/data3/trainingSetAu211_0052.tif\n",
            "/root/data3/trainingSetAu211_0418.tif\n",
            "/root/data3/trainingSetAu211_0046.tif\n",
            "/root/data3/trainingSetAu211_0325.tif\n",
            "/root/data3/trainingSetAu211_0122.tif\n",
            "/root/data3/trainingSetAu211_0167.tif\n",
            "/root/data3/trainingSetAu211_0040.tif\n",
            "/root/data3/trainingSetAu211_0145.tif\n",
            "/root/data3/trainingSetAu211_0277.tif\n",
            "/root/data3/trainingSetAu211_0139.tif\n",
            "/root/data3/trainingSetAu211_0407.tif\n",
            "/root/data3/trainingSetAu211_0461.tif\n",
            "/root/data3/trainingSetAu211_0019.tif\n",
            "/root/data3/trainingSetAu211_0315.tif\n",
            "/root/data3/trainingSetAu211_0351.tif\n",
            "/root/data3/trainingSetAu211_0317.tif\n",
            "/root/data3/trainingSetAu211_0037.tif\n",
            "/root/data3/trainingSetAu211_0358.tif\n",
            "/root/data3/trainingSetAu211_0477.tif\n",
            "/root/data3/trainingSetAu211_0413.tif\n",
            "/root/data3/trainingSetAu211_0101.tif\n",
            "/root/data3/trainingSetAu211_0344.tif\n",
            "/root/data3/trainingSetAu211_0392.tif\n",
            "/root/data3/trainingSetAu211_0470.tif\n",
            "/root/data3/trainingSetAu211_0395.tif\n",
            "/root/data3/trainingSetAu211_0082.tif\n",
            "/root/data3/trainingSetAu211_0071.tif\n",
            "/root/data3/trainingSetAu211_0118.tif\n",
            "/root/data3/trainingSetAu211_0469.tif\n",
            "/root/data3/trainingSetAu211_0491.tif\n",
            "/root/data3/trainingSetAu211_0209.tif\n",
            "/root/data3/trainingSetAu211_0274.tif\n",
            "/root/data3/trainingSetAu211_0031.tif\n",
            "/root/data3/trainingSetAu211_0249.tif\n",
            "/root/data3/trainingSetAu211_0463.tif\n",
            "/root/data3/trainingSetAu211_0394.tif\n",
            "/root/data3/trainingSetAu211_0154.tif\n",
            "/root/data3/trainingSetAu211_0066.tif\n",
            "/root/data3/trainingSetAu211_0472.tif\n",
            "/root/data3/trainingSetAu211_0428.tif\n",
            "/root/data3/trainingSetAu211_0381.tif\n",
            "/root/data3/trainingSetAu211_0179.tif\n",
            "/root/data3/trainingSetAu211_0306.tif\n",
            "/root/data3/trainingSetAu211_0350.tif\n",
            "/root/data3/trainingSetAu211_0203.tif\n",
            "/root/data3/trainingSetAu211_0081.tif\n",
            "/root/data3/trainingSetAu211_0493.tif\n",
            "/root/data3/trainingSetAu211_0464.tif\n",
            "/root/data3/trainingSetAu211_0451.tif\n",
            "/root/data3/trainingSetAu211_0074.tif\n",
            "/root/data3/trainingSetAu211_0309.tif\n",
            "/root/data3/trainingSetAu211_0068.tif\n",
            "/root/data3/trainingSetAu211_0190.tif\n",
            "/root/data3/trainingSetAu211_0334.tif\n",
            "/root/data3/trainingSetAu211_0007.tif\n",
            "/root/data3/trainingSetAu211_0467.tif\n",
            "/root/data3/trainingSetAu211_0048.tif\n",
            "/root/data3/trainingSetAu211_0355.tif\n",
            "/root/data3/trainingSetAu211_0447.tif\n",
            "/root/data3/trainingSetAu211_0484.tif\n",
            "/root/data3/trainingSetAu211_0287.tif\n",
            "/root/data3/trainingSetAu211_0088.tif\n",
            "/root/data3/trainingSetAu211_0250.tif\n",
            "/root/data3/trainingSetAu211_0487.tif\n",
            "/root/data3/trainingSetAu211_0222.tif\n",
            "/root/data3/trainingSetAu211_0197.tif\n",
            "/root/data3/trainingSetAu211_0482.tif\n"
          ],
          "name": "stdout"
        }
      ]
    },
    {
      "cell_type": "code",
      "metadata": {
        "id": "uv9i7iZ-40_L",
        "colab": {
          "base_uri": "https://localhost:8080/",
          "height": 8517
        },
        "outputId": "bc155759-9758-4862-9d46-4366af77184a"
      },
      "source": [
        "class2_data = []\n",
        "for fp in glob.glob('/root/data2/*.tif'):\n",
        "  print fp\n",
        "  with tifffile.TiffFile(fp) as tif:\n",
        "    data = tif.asarray()\n",
        "#     data = scipy.ndimage.zoom(data, zoom=0.25)\n",
        "    class2_data.append(data)"
      ],
      "execution_count": null,
      "outputs": [
        {
          "output_type": "stream",
          "text": [
            "/root/data2/trainingSetAu111_0092.tif\n",
            "/root/data2/trainingSetAu111_0086.tif\n",
            "/root/data2/trainingSetAu111_0097.tif\n",
            "/root/data2/trainingSetAu111_0402.tif\n",
            "/root/data2/trainingSetAu111_0236.tif\n",
            "/root/data2/trainingSetAu111_0486.tif\n",
            "/root/data2/trainingSetAu111_0267.tif\n",
            "/root/data2/trainingSetAu111_0143.tif\n",
            "/root/data2/trainingSetAu111_0091.tif\n",
            "/root/data2/trainingSetAu111_0041.tif\n",
            "/root/data2/trainingSetAu111_0428.tif\n",
            "/root/data2/trainingSetAu111_0233.tif\n",
            "/root/data2/trainingSetAu111_0048.tif\n",
            "/root/data2/trainingSetAu111_0487.tif\n",
            "/root/data2/trainingSetAu111_0247.tif\n",
            "/root/data2/trainingSetAu111_0178.tif\n",
            "/root/data2/trainingSetAu111_0469.tif\n",
            "/root/data2/trainingSetAu111_0046.tif\n",
            "/root/data2/trainingSetAu111_0030.tif\n",
            "/root/data2/trainingSetAu111_0179.tif\n",
            "/root/data2/trainingSetAu111_0373.tif\n",
            "/root/data2/trainingSetAu111_0167.tif\n",
            "/root/data2/trainingSetAu111_0424.tif\n",
            "/root/data2/trainingSetAu111_0304.tif\n",
            "/root/data2/trainingSetAu111_0026.tif\n",
            "/root/data2/trainingSetAu111_0319.tif\n",
            "/root/data2/trainingSetAu111_0258.tif\n",
            "/root/data2/trainingSetAu111_0488.tif\n",
            "/root/data2/trainingSetAu111_0294.tif\n",
            "/root/data2/trainingSetAu111_0151.tif\n",
            "/root/data2/trainingSetAu111_0358.tif\n",
            "/root/data2/trainingSetAu111_0311.tif\n",
            "/root/data2/trainingSetAu111_0318.tif\n",
            "/root/data2/trainingSetAu111_0352.tif\n",
            "/root/data2/trainingSetAu111_0404.tif\n",
            "/root/data2/trainingSetAu111_0177.tif\n",
            "/root/data2/trainingSetAu111_0437.tif\n",
            "/root/data2/trainingSetAu111_0447.tif\n",
            "/root/data2/trainingSetAu111_0454.tif\n",
            "/root/data2/trainingSetAu111_0460.tif\n",
            "/root/data2/trainingSetAu111_0102.tif\n",
            "/root/data2/trainingSetAu111_0192.tif\n",
            "/root/data2/trainingSetAu111_0419.tif\n",
            "/root/data2/trainingSetAu111_0375.tif\n",
            "/root/data2/trainingSetAu111_0075.tif\n",
            "/root/data2/trainingSetAu111_0184.tif\n",
            "/root/data2/trainingSetAu111_0421.tif\n",
            "/root/data2/trainingSetAu111_0129.tif\n",
            "/root/data2/trainingSetAu111_0218.tif\n",
            "/root/data2/trainingSetAu111_0316.tif\n",
            "/root/data2/trainingSetAu111_0157.tif\n",
            "/root/data2/trainingSetAu111_0136.tif\n",
            "/root/data2/trainingSetAu111_0466.tif\n",
            "/root/data2/trainingSetAu111_0297.tif\n",
            "/root/data2/trainingSetAu111_0213.tif\n",
            "/root/data2/trainingSetAu111_0468.tif\n",
            "/root/data2/trainingSetAu111_0180.tif\n",
            "/root/data2/trainingSetAu111_0284.tif\n",
            "/root/data2/trainingSetAu111_0467.tif\n",
            "/root/data2/trainingSetAu111_0053.tif\n",
            "/root/data2/trainingSetAu111_0042.tif\n",
            "/root/data2/trainingSetAu111_0340.tif\n",
            "/root/data2/trainingSetAu111_0448.tif\n",
            "/root/data2/trainingSetAu111_0344.tif\n",
            "/root/data2/trainingSetAu111_0244.tif\n",
            "/root/data2/trainingSetAu111_0052.tif\n",
            "/root/data2/trainingSetAu111_0479.tif\n",
            "/root/data2/trainingSetAu111_0230.tif\n",
            "/root/data2/trainingSetAu111_0478.tif\n",
            "/root/data2/trainingSetAu111_0336.tif\n",
            "/root/data2/trainingSetAu111_0197.tif\n",
            "/root/data2/trainingSetAu111_0353.tif\n",
            "/root/data2/trainingSetAu111_0120.tif\n",
            "/root/data2/trainingSetAu111_0090.tif\n",
            "/root/data2/trainingSetAu111_0266.tif\n",
            "/root/data2/trainingSetAu111_0285.tif\n",
            "/root/data2/trainingSetAu111_0146.tif\n",
            "/root/data2/trainingSetAu111_0057.tif\n",
            "/root/data2/trainingSetAu111_0156.tif\n",
            "/root/data2/trainingSetAu111_0321.tif\n",
            "/root/data2/trainingSetAu111_0441.tif\n",
            "/root/data2/trainingSetAu111_0060.tif\n",
            "/root/data2/trainingSetAu111_0105.tif\n",
            "/root/data2/trainingSetAu111_0124.tif\n",
            "/root/data2/trainingSetAu111_0328.tif\n",
            "/root/data2/trainingSetAu111_0302.tif\n",
            "/root/data2/trainingSetAu111_0078.tif\n",
            "/root/data2/trainingSetAu111_0065.tif\n",
            "/root/data2/trainingSetAu111_0076.tif\n",
            "/root/data2/trainingSetAu111_0347.tif\n",
            "/root/data2/trainingSetAu111_0430.tif\n",
            "/root/data2/trainingSetAu111_0393.tif\n",
            "/root/data2/trainingSetAu111_0277.tif\n",
            "/root/data2/trainingSetAu111_0313.tif\n",
            "/root/data2/trainingSetAu111_0276.tif\n",
            "/root/data2/trainingSetAu111_0018.tif\n",
            "/root/data2/trainingSetAu111_0049.tif\n",
            "/root/data2/trainingSetAu111_0292.tif\n",
            "/root/data2/trainingSetAu111_0066.tif\n",
            "/root/data2/trainingSetAu111_0497.tif\n",
            "/root/data2/trainingSetAu111_0063.tif\n",
            "/root/data2/trainingSetAu111_0269.tif\n",
            "/root/data2/trainingSetAu111_0337.tif\n",
            "/root/data2/trainingSetAu111_0415.tif\n",
            "/root/data2/trainingSetAu111_0021.tif\n",
            "/root/data2/trainingSetAu111_0169.tif\n",
            "/root/data2/trainingSetAu111_0436.tif\n",
            "/root/data2/trainingSetAu111_0461.tif\n",
            "/root/data2/trainingSetAu111_0348.tif\n",
            "/root/data2/trainingSetAu111_0279.tif\n",
            "/root/data2/trainingSetAu111_0032.tif\n",
            "/root/data2/trainingSetAu111_0484.tif\n",
            "/root/data2/trainingSetAu111_0418.tif\n",
            "/root/data2/trainingSetAu111_0196.tif\n",
            "/root/data2/trainingSetAu111_0140.tif\n",
            "/root/data2/trainingSetAu111_0171.tif\n",
            "/root/data2/trainingSetAu111_0306.tif\n",
            "/root/data2/trainingSetAu111_0282.tif\n",
            "/root/data2/trainingSetAu111_0138.tif\n",
            "/root/data2/trainingSetAu111_0331.tif\n",
            "/root/data2/trainingSetAu111_0144.tif\n",
            "/root/data2/trainingSetAu111_0219.tif\n",
            "/root/data2/trainingSetAu111_0187.tif\n",
            "/root/data2/trainingSetAu111_0225.tif\n",
            "/root/data2/trainingSetAu111_0249.tif\n",
            "/root/data2/trainingSetAu111_0155.tif\n",
            "/root/data2/trainingSetAu111_0211.tif\n",
            "/root/data2/trainingSetAu111_0394.tif\n",
            "/root/data2/trainingSetAu111_0229.tif\n",
            "/root/data2/trainingSetAu111_0470.tif\n",
            "/root/data2/trainingSetAu111_0240.tif\n",
            "/root/data2/trainingSetAu111_0035.tif\n",
            "/root/data2/trainingSetAu111_0475.tif\n",
            "/root/data2/trainingSetAu111_0014.tif\n",
            "/root/data2/trainingSetAu111_0369.tif\n",
            "/root/data2/trainingSetAu111_0265.tif\n",
            "/root/data2/trainingSetAu111_0110.tif\n",
            "/root/data2/trainingSetAu111_0099.tif\n",
            "/root/data2/trainingSetAu111_0403.tif\n",
            "/root/data2/trainingSetAu111_0370.tif\n",
            "/root/data2/trainingSetAu111_0024.tif\n",
            "/root/data2/trainingSetAu111_0383.tif\n",
            "/root/data2/trainingSetAu111_0013.tif\n",
            "/root/data2/trainingSetAu111_0173.tif\n",
            "/root/data2/trainingSetAu111_0496.tif\n",
            "/root/data2/trainingSetAu111_0377.tif\n",
            "/root/data2/trainingSetAu111_0411.tif\n",
            "/root/data2/trainingSetAu111_0254.tif\n",
            "/root/data2/trainingSetAu111_0006.tif\n",
            "/root/data2/trainingSetAu111_0203.tif\n",
            "/root/data2/trainingSetAu111_0312.tif\n",
            "/root/data2/trainingSetAu111_0371.tif\n",
            "/root/data2/trainingSetAu111_0135.tif\n",
            "/root/data2/trainingSetAu111_0494.tif\n",
            "/root/data2/trainingSetAu111_0231.tif\n",
            "/root/data2/trainingSetAu111_0107.tif\n",
            "/root/data2/trainingSetAu111_0493.tif\n",
            "/root/data2/trainingSetAu111_0495.tif\n",
            "/root/data2/trainingSetAu111_0051.tif\n",
            "/root/data2/trainingSetAu111_0118.tif\n",
            "/root/data2/trainingSetAu111_0395.tif\n",
            "/root/data2/trainingSetAu111_0409.tif\n",
            "/root/data2/trainingSetAu111_0134.tif\n",
            "/root/data2/trainingSetAu111_0264.tif\n",
            "/root/data2/trainingSetAu111_0485.tif\n",
            "/root/data2/trainingSetAu111_0189.tif\n",
            "/root/data2/trainingSetAu111_0299.tif\n",
            "/root/data2/trainingSetAu111_0028.tif\n",
            "/root/data2/trainingSetAu111_0260.tif\n",
            "/root/data2/trainingSetAu111_0398.tif\n",
            "/root/data2/trainingSetAu111_0291.tif\n",
            "/root/data2/trainingSetAu111_0001.tif\n",
            "/root/data2/trainingSetAu111_0186.tif\n",
            "/root/data2/trainingSetAu111_0374.tif\n",
            "/root/data2/trainingSetAu111_0423.tif\n",
            "/root/data2/trainingSetAu111_0039.tif\n",
            "/root/data2/trainingSetAu111_0372.tif\n",
            "/root/data2/trainingSetAu111_0410.tif\n",
            "/root/data2/trainingSetAu111_0044.tif\n",
            "/root/data2/trainingSetAu111_0472.tif\n",
            "/root/data2/trainingSetAu111_0074.tif\n",
            "/root/data2/trainingSetAu111_0253.tif\n",
            "/root/data2/trainingSetAu111_0141.tif\n",
            "/root/data2/trainingSetAu111_0011.tif\n",
            "/root/data2/trainingSetAu111_0463.tif\n",
            "/root/data2/trainingSetAu111_0079.tif\n",
            "/root/data2/trainingSetAu111_0362.tif\n",
            "/root/data2/trainingSetAu111_0427.tif\n",
            "/root/data2/trainingSetAu111_0174.tif\n",
            "/root/data2/trainingSetAu111_0500.tif\n",
            "/root/data2/trainingSetAu111_0246.tif\n",
            "/root/data2/trainingSetAu111_0366.tif\n",
            "/root/data2/trainingSetAu111_0422.tif\n",
            "/root/data2/trainingSetAu111_0407.tif\n",
            "/root/data2/trainingSetAu111_0176.tif\n",
            "/root/data2/trainingSetAu111_0446.tif\n",
            "/root/data2/trainingSetAu111_0356.tif\n",
            "/root/data2/trainingSetAu111_0287.tif\n",
            "/root/data2/trainingSetAu111_0022.tif\n",
            "/root/data2/trainingSetAu111_0036.tif\n",
            "/root/data2/trainingSetAu111_0096.tif\n",
            "/root/data2/trainingSetAu111_0397.tif\n",
            "/root/data2/trainingSetAu111_0290.tif\n",
            "/root/data2/trainingSetAu111_0100.tif\n",
            "/root/data2/trainingSetAu111_0073.tif\n",
            "/root/data2/trainingSetAu111_0165.tif\n",
            "/root/data2/trainingSetAu111_0342.tif\n",
            "/root/data2/trainingSetAu111_0417.tif\n",
            "/root/data2/trainingSetAu111_0416.tif\n",
            "/root/data2/trainingSetAu111_0062.tif\n",
            "/root/data2/trainingSetAu111_0414.tif\n",
            "/root/data2/trainingSetAu111_0462.tif\n",
            "/root/data2/trainingSetAu111_0442.tif\n",
            "/root/data2/trainingSetAu111_0300.tif\n",
            "/root/data2/trainingSetAu111_0226.tif\n",
            "/root/data2/trainingSetAu111_0170.tif\n",
            "/root/data2/trainingSetAu111_0483.tif\n",
            "/root/data2/trainingSetAu111_0205.tif\n",
            "/root/data2/trainingSetAu111_0455.tif\n",
            "/root/data2/trainingSetAu111_0499.tif\n",
            "/root/data2/trainingSetAu111_0095.tif\n",
            "/root/data2/trainingSetAu111_0020.tif\n",
            "/root/data2/trainingSetAu111_0376.tif\n",
            "/root/data2/trainingSetAu111_0104.tif\n",
            "/root/data2/trainingSetAu111_0193.tif\n",
            "/root/data2/trainingSetAu111_0477.tif\n",
            "/root/data2/trainingSetAu111_0341.tif\n",
            "/root/data2/trainingSetAu111_0451.tif\n",
            "/root/data2/trainingSetAu111_0382.tif\n",
            "/root/data2/trainingSetAu111_0359.tif\n",
            "/root/data2/trainingSetAu111_0191.tif\n",
            "/root/data2/trainingSetAu111_0064.tif\n",
            "/root/data2/trainingSetAu111_0420.tif\n",
            "/root/data2/trainingSetAu111_0425.tif\n",
            "/root/data2/trainingSetAu111_0234.tif\n",
            "/root/data2/trainingSetAu111_0473.tif\n",
            "/root/data2/trainingSetAu111_0354.tif\n",
            "/root/data2/trainingSetAu111_0148.tif\n",
            "/root/data2/trainingSetAu111_0207.tif\n",
            "/root/data2/trainingSetAu111_0295.tif\n",
            "/root/data2/trainingSetAu111_0128.tif\n",
            "/root/data2/trainingSetAu111_0392.tif\n",
            "/root/data2/trainingSetAu111_0364.tif\n",
            "/root/data2/trainingSetAu111_0085.tif\n",
            "/root/data2/trainingSetAu111_0027.tif\n",
            "/root/data2/trainingSetAu111_0492.tif\n",
            "/root/data2/trainingSetAu111_0413.tif\n",
            "/root/data2/trainingSetAu111_0273.tif\n",
            "/root/data2/trainingSetAu111_0121.tif\n",
            "/root/data2/trainingSetAu111_0449.tif\n",
            "/root/data2/trainingSetAu111_0343.tif\n",
            "/root/data2/trainingSetAu111_0089.tif\n",
            "/root/data2/trainingSetAu111_0067.tif\n",
            "/root/data2/trainingSetAu111_0434.tif\n",
            "/root/data2/trainingSetAu111_0088.tif\n",
            "/root/data2/trainingSetAu111_0127.tif\n",
            "/root/data2/trainingSetAu111_0458.tif\n",
            "/root/data2/trainingSetAu111_0476.tif\n",
            "/root/data2/trainingSetAu111_0162.tif\n",
            "/root/data2/trainingSetAu111_0145.tif\n",
            "/root/data2/trainingSetAu111_0220.tif\n",
            "/root/data2/trainingSetAu111_0307.tif\n",
            "/root/data2/trainingSetAu111_0068.tif\n",
            "/root/data2/trainingSetAu111_0005.tif\n",
            "/root/data2/trainingSetAu111_0150.tif\n",
            "/root/data2/trainingSetAu111_0204.tif\n",
            "/root/data2/trainingSetAu111_0388.tif\n",
            "/root/data2/trainingSetAu111_0315.tif\n",
            "/root/data2/trainingSetAu111_0390.tif\n",
            "/root/data2/trainingSetAu111_0238.tif\n",
            "/root/data2/trainingSetAu111_0406.tif\n",
            "/root/data2/trainingSetAu111_0087.tif\n",
            "/root/data2/trainingSetAu111_0431.tif\n",
            "/root/data2/trainingSetAu111_0158.tif\n",
            "/root/data2/trainingSetAu111_0239.tif\n",
            "/root/data2/trainingSetAu111_0380.tif\n",
            "/root/data2/trainingSetAu111_0122.tif\n",
            "/root/data2/trainingSetAu111_0214.tif\n",
            "/root/data2/trainingSetAu111_0271.tif\n",
            "/root/data2/trainingSetAu111_0031.tif\n",
            "/root/data2/trainingSetAu111_0310.tif\n",
            "/root/data2/trainingSetAu111_0333.tif\n",
            "/root/data2/trainingSetAu111_0198.tif\n",
            "/root/data2/trainingSetAu111_0301.tif\n",
            "/root/data2/trainingSetAu111_0360.tif\n",
            "/root/data2/trainingSetAu111_0015.tif\n",
            "/root/data2/trainingSetAu111_0153.tif\n",
            "/root/data2/trainingSetAu111_0025.tif\n",
            "/root/data2/trainingSetAu111_0465.tif\n",
            "/root/data2/trainingSetAu111_0385.tif\n",
            "/root/data2/trainingSetAu111_0256.tif\n",
            "/root/data2/trainingSetAu111_0181.tif\n",
            "/root/data2/trainingSetAu111_0194.tif\n",
            "/root/data2/trainingSetAu111_0339.tif\n",
            "/root/data2/trainingSetAu111_0305.tif\n",
            "/root/data2/trainingSetAu111_0278.tif\n",
            "/root/data2/trainingSetAu111_0498.tif\n",
            "/root/data2/trainingSetAu111_0082.tif\n",
            "/root/data2/trainingSetAu111_0351.tif\n",
            "/root/data2/trainingSetAu111_0474.tif\n",
            "/root/data2/trainingSetAu111_0206.tif\n",
            "/root/data2/trainingSetAu111_0346.tif\n",
            "/root/data2/trainingSetAu111_0117.tif\n",
            "/root/data2/trainingSetAu111_0368.tif\n",
            "/root/data2/trainingSetAu111_0003.tif\n",
            "/root/data2/trainingSetAu111_0002.tif\n",
            "/root/data2/trainingSetAu111_0149.tif\n",
            "/root/data2/trainingSetAu111_0154.tif\n",
            "/root/data2/trainingSetAu111_0125.tif\n",
            "/root/data2/trainingSetAu111_0457.tif\n",
            "/root/data2/trainingSetAu111_0363.tif\n",
            "/root/data2/trainingSetAu111_0355.tif\n",
            "/root/data2/trainingSetAu111_0166.tif\n",
            "/root/data2/trainingSetAu111_0349.tif\n",
            "/root/data2/trainingSetAu111_0185.tif\n",
            "/root/data2/trainingSetAu111_0412.tif\n",
            "/root/data2/trainingSetAu111_0115.tif\n",
            "/root/data2/trainingSetAu111_0281.tif\n",
            "/root/data2/trainingSetAu111_0329.tif\n",
            "/root/data2/trainingSetAu111_0228.tif\n",
            "/root/data2/trainingSetAu111_0399.tif\n",
            "/root/data2/trainingSetAu111_0029.tif\n",
            "/root/data2/trainingSetAu111_0210.tif\n",
            "/root/data2/trainingSetAu111_0043.tif\n",
            "/root/data2/trainingSetAu111_0040.tif\n",
            "/root/data2/trainingSetAu111_0059.tif\n",
            "/root/data2/trainingSetAu111_0132.tif\n",
            "/root/data2/trainingSetAu111_0175.tif\n",
            "/root/data2/trainingSetAu111_0235.tif\n",
            "/root/data2/trainingSetAu111_0314.tif\n",
            "/root/data2/trainingSetAu111_0293.tif\n",
            "/root/data2/trainingSetAu111_0435.tif\n",
            "/root/data2/trainingSetAu111_0069.tif\n",
            "/root/data2/trainingSetAu111_0037.tif\n",
            "/root/data2/trainingSetAu111_0056.tif\n",
            "/root/data2/trainingSetAu111_0471.tif\n",
            "/root/data2/trainingSetAu111_0396.tif\n",
            "/root/data2/trainingSetAu111_0109.tif\n",
            "/root/data2/trainingSetAu111_0439.tif\n",
            "/root/data2/trainingSetAu111_0061.tif\n",
            "/root/data2/trainingSetAu111_0101.tif\n",
            "/root/data2/trainingSetAu111_0357.tif\n",
            "/root/data2/trainingSetAu111_0426.tif\n",
            "/root/data2/trainingSetAu111_0137.tif\n",
            "/root/data2/trainingSetAu111_0443.tif\n",
            "/root/data2/trainingSetAu111_0071.tif\n",
            "/root/data2/trainingSetAu111_0070.tif\n",
            "/root/data2/trainingSetAu111_0217.tif\n",
            "/root/data2/trainingSetAu111_0081.tif\n",
            "/root/data2/trainingSetAu111_0108.tif\n",
            "/root/data2/trainingSetAu111_0237.tif\n",
            "/root/data2/trainingSetAu111_0433.tif\n",
            "/root/data2/trainingSetAu111_0094.tif\n",
            "/root/data2/trainingSetAu111_0251.tif\n",
            "/root/data2/trainingSetAu111_0019.tif\n",
            "/root/data2/trainingSetAu111_0391.tif\n",
            "/root/data2/trainingSetAu111_0245.tif\n",
            "/root/data2/trainingSetAu111_0106.tif\n",
            "/root/data2/trainingSetAu111_0438.tif\n",
            "/root/data2/trainingSetAu111_0464.tif\n",
            "/root/data2/trainingSetAu111_0008.tif\n",
            "/root/data2/trainingSetAu111_0327.tif\n",
            "/root/data2/trainingSetAu111_0139.tif\n",
            "/root/data2/trainingSetAu111_0084.tif\n",
            "/root/data2/trainingSetAu111_0381.tif\n",
            "/root/data2/trainingSetAu111_0330.tif\n",
            "/root/data2/trainingSetAu111_0456.tif\n",
            "/root/data2/trainingSetAu111_0259.tif\n",
            "/root/data2/trainingSetAu111_0114.tif\n",
            "/root/data2/trainingSetAu111_0255.tif\n",
            "/root/data2/trainingSetAu111_0050.tif\n",
            "/root/data2/trainingSetAu111_0335.tif\n",
            "/root/data2/trainingSetAu111_0164.tif\n",
            "/root/data2/trainingSetAu111_0405.tif\n",
            "/root/data2/trainingSetAu111_0275.tif\n",
            "/root/data2/trainingSetAu111_0034.tif\n",
            "/root/data2/trainingSetAu111_0262.tif\n",
            "/root/data2/trainingSetAu111_0296.tif\n",
            "/root/data2/trainingSetAu111_0289.tif\n",
            "/root/data2/trainingSetAu111_0017.tif\n",
            "/root/data2/trainingSetAu111_0250.tif\n",
            "/root/data2/trainingSetAu111_0131.tif\n",
            "/root/data2/trainingSetAu111_0283.tif\n",
            "/root/data2/trainingSetAu111_0274.tif\n",
            "/root/data2/trainingSetAu111_0389.tif\n",
            "/root/data2/trainingSetAu111_0222.tif\n",
            "/root/data2/trainingSetAu111_0481.tif\n",
            "/root/data2/trainingSetAu111_0093.tif\n",
            "/root/data2/trainingSetAu111_0055.tif\n",
            "/root/data2/trainingSetAu111_0216.tif\n",
            "/root/data2/trainingSetAu111_0338.tif\n",
            "/root/data2/trainingSetAu111_0317.tif\n",
            "/root/data2/trainingSetAu111_0384.tif\n",
            "/root/data2/trainingSetAu111_0387.tif\n",
            "/root/data2/trainingSetAu111_0215.tif\n",
            "/root/data2/trainingSetAu111_0303.tif\n",
            "/root/data2/trainingSetAu111_0257.tif\n",
            "/root/data2/trainingSetAu111_0223.tif\n",
            "/root/data2/trainingSetAu111_0432.tif\n",
            "/root/data2/trainingSetAu111_0298.tif\n",
            "/root/data2/trainingSetAu111_0199.tif\n",
            "/root/data2/trainingSetAu111_0077.tif\n",
            "/root/data2/trainingSetAu111_0326.tif\n",
            "/root/data2/trainingSetAu111_0490.tif\n",
            "/root/data2/trainingSetAu111_0268.tif\n",
            "/root/data2/trainingSetAu111_0080.tif\n",
            "/root/data2/trainingSetAu111_0047.tif\n",
            "/root/data2/trainingSetAu111_0444.tif\n",
            "/root/data2/trainingSetAu111_0334.tif\n",
            "/root/data2/trainingSetAu111_0116.tif\n",
            "/root/data2/trainingSetAu111_0401.tif\n",
            "/root/data2/trainingSetAu111_0308.tif\n",
            "/root/data2/trainingSetAu111_0345.tif\n",
            "/root/data2/trainingSetAu111_0232.tif\n",
            "/root/data2/trainingSetAu111_0012.tif\n",
            "/root/data2/trainingSetAu111_0480.tif\n",
            "/root/data2/trainingSetAu111_0113.tif\n",
            "/root/data2/trainingSetAu111_0361.tif\n",
            "/root/data2/trainingSetAu111_0212.tif\n",
            "/root/data2/trainingSetAu111_0453.tif\n",
            "/root/data2/trainingSetAu111_0163.tif\n",
            "/root/data2/trainingSetAu111_0322.tif\n",
            "/root/data2/trainingSetAu111_0010.tif\n",
            "/root/data2/trainingSetAu111_0007.tif\n",
            "/root/data2/trainingSetAu111_0491.tif\n",
            "/root/data2/trainingSetAu111_0386.tif\n",
            "/root/data2/trainingSetAu111_0324.tif\n",
            "/root/data2/trainingSetAu111_0309.tif\n",
            "/root/data2/trainingSetAu111_0242.tif\n",
            "/root/data2/trainingSetAu111_0111.tif\n",
            "/root/data2/trainingSetAu111_0208.tif\n",
            "/root/data2/trainingSetAu111_0152.tif\n",
            "/root/data2/trainingSetAu111_0221.tif\n",
            "/root/data2/trainingSetAu111_0130.tif\n",
            "/root/data2/trainingSetAu111_0378.tif\n",
            "/root/data2/trainingSetAu111_0243.tif\n",
            "/root/data2/trainingSetAu111_0224.tif\n",
            "/root/data2/trainingSetAu111_0200.tif\n",
            "/root/data2/trainingSetAu111_0440.tif\n",
            "/root/data2/trainingSetAu111_0161.tif\n",
            "/root/data2/trainingSetAu111_0112.tif\n",
            "/root/data2/trainingSetAu111_0054.tif\n",
            "/root/data2/trainingSetAu111_0045.tif\n",
            "/root/data2/trainingSetAu111_0168.tif\n",
            "/root/data2/trainingSetAu111_0252.tif\n",
            "/root/data2/trainingSetAu111_0270.tif\n",
            "/root/data2/trainingSetAu111_0332.tif\n",
            "/root/data2/trainingSetAu111_0459.tif\n",
            "/root/data2/trainingSetAu111_0201.tif\n",
            "/root/data2/trainingSetAu111_0263.tif\n",
            "/root/data2/trainingSetAu111_0323.tif\n",
            "/root/data2/trainingSetAu111_0286.tif\n",
            "/root/data2/trainingSetAu111_0119.tif\n",
            "/root/data2/trainingSetAu111_0365.tif\n",
            "/root/data2/trainingSetAu111_0033.tif\n",
            "/root/data2/trainingSetAu111_0209.tif\n",
            "/root/data2/trainingSetAu111_0325.tif\n",
            "/root/data2/trainingSetAu111_0188.tif\n",
            "/root/data2/trainingSetAu111_0227.tif\n",
            "/root/data2/trainingSetAu111_0183.tif\n",
            "/root/data2/trainingSetAu111_0023.tif\n",
            "/root/data2/trainingSetAu111_0133.tif\n",
            "/root/data2/trainingSetAu111_0261.tif\n",
            "/root/data2/trainingSetAu111_0195.tif\n",
            "/root/data2/trainingSetAu111_0320.tif\n",
            "/root/data2/trainingSetAu111_0400.tif\n",
            "/root/data2/trainingSetAu111_0142.tif\n",
            "/root/data2/trainingSetAu111_0367.tif\n",
            "/root/data2/trainingSetAu111_0408.tif\n",
            "/root/data2/trainingSetAu111_0489.tif\n",
            "/root/data2/trainingSetAu111_0429.tif\n",
            "/root/data2/trainingSetAu111_0083.tif\n",
            "/root/data2/trainingSetAu111_0098.tif\n",
            "/root/data2/trainingSetAu111_0241.tif\n",
            "/root/data2/trainingSetAu111_0004.tif\n",
            "/root/data2/trainingSetAu111_0009.tif\n",
            "/root/data2/trainingSetAu111_0123.tif\n",
            "/root/data2/trainingSetAu111_0280.tif\n",
            "/root/data2/trainingSetAu111_0452.tif\n",
            "/root/data2/trainingSetAu111_0182.tif\n",
            "/root/data2/trainingSetAu111_0350.tif\n",
            "/root/data2/trainingSetAu111_0379.tif\n",
            "/root/data2/trainingSetAu111_0072.tif\n",
            "/root/data2/trainingSetAu111_0172.tif\n",
            "/root/data2/trainingSetAu111_0103.tif\n",
            "/root/data2/trainingSetAu111_0202.tif\n",
            "/root/data2/trainingSetAu111_0190.tif\n",
            "/root/data2/trainingSetAu111_0272.tif\n",
            "/root/data2/trainingSetAu111_0058.tif\n",
            "/root/data2/trainingSetAu111_0450.tif\n",
            "/root/data2/trainingSetAu111_0159.tif\n",
            "/root/data2/trainingSetAu111_0288.tif\n",
            "/root/data2/trainingSetAu111_0147.tif\n",
            "/root/data2/trainingSetAu111_0126.tif\n",
            "/root/data2/trainingSetAu111_0016.tif\n",
            "/root/data2/trainingSetAu111_0038.tif\n",
            "/root/data2/trainingSetAu111_0160.tif\n",
            "/root/data2/trainingSetAu111_0482.tif\n",
            "/root/data2/trainingSetAu111_0248.tif\n",
            "/root/data2/trainingSetAu111_0445.tif\n"
          ],
          "name": "stdout"
        }
      ]
    },
    {
      "cell_type": "code",
      "metadata": {
        "id": "Zyv7CTrb1eqM",
        "colab": {
          "base_uri": "https://localhost:8080/",
          "height": 367
        },
        "outputId": "fa2c4a3a-5cb0-474b-b018-fd6913b2c5c6"
      },
      "source": [
        "len(class1_data), len(class2_data)\n",
        "plt.imshow(class2_data[0])"
      ],
      "execution_count": null,
      "outputs": [
        {
          "output_type": "execute_result",
          "data": {
            "text/plain": [
              "<matplotlib.image.AxesImage at 0x7f684d755350>"
            ]
          },
          "metadata": {
            "tags": []
          },
          "execution_count": 61
        },
        {
          "output_type": "display_data",
          "data": {
            "image/png": "[encoded data removed]",
            "text/plain": [
              "<matplotlib.figure.Figure at 0x7f684cb56150>"
            ]
          },
          "metadata": {
            "tags": []
          }
        }
      ]
    },
    {
      "cell_type": "code",
      "metadata": {
        "id": "ej27WwIbLffQ",
        "colab": {
          "base_uri": "https://localhost:8080/",
          "height": 367
        },
        "outputId": "ed205622-7d5a-4c68-b9c1-b899f137f7bb"
      },
      "source": [
        "plt.imshow(class1_data[0])"
      ],
      "execution_count": null,
      "outputs": [
        {
          "output_type": "execute_result",
          "data": {
            "text/plain": [
              "<matplotlib.image.AxesImage at 0x7f684ca9a0d0>"
            ]
          },
          "metadata": {
            "tags": []
          },
          "execution_count": 62
        },
        {
          "output_type": "display_data",
          "data": {
            "image/png": "[encoded data removed]",
            "text/plain": [
              "<matplotlib.figure.Figure at 0x7f684de8b510>"
            ]
          },
          "metadata": {
            "tags": []
          }
        }
      ]
    },
    {
      "cell_type": "code",
      "metadata": {
        "id": "D1rqY8d55D_O"
      },
      "source": [
        "X = class1_data + class2_data\n",
        "Y = [0]*500 + [1]*500\n",
        "assert len(X) == len(Y)"
      ],
      "execution_count": null,
      "outputs": []
    },
    {
      "cell_type": "code",
      "metadata": {
        "id": "OOmNM-a-5ts4"
      },
      "source": [
        "X_numpy = np.array(X)"
      ],
      "execution_count": null,
      "outputs": []
    },
    {
      "cell_type": "code",
      "metadata": {
        "id": "tV1LtEot5yHM"
      },
      "source": [
        "import numpy as np"
      ],
      "execution_count": null,
      "outputs": []
    },
    {
      "cell_type": "code",
      "metadata": {
        "id": "0tYnypJd5z8T",
        "colab": {
          "base_uri": "https://localhost:8080/",
          "height": 34
        },
        "outputId": "34580baf-c351-422c-d816-ce0103f34bd5"
      },
      "source": [
        "X_numpy.shape"
      ],
      "execution_count": null,
      "outputs": [
        {
          "output_type": "execute_result",
          "data": {
            "text/plain": [
              "(1000, 512, 512)"
            ]
          },
          "metadata": {
            "tags": []
          },
          "execution_count": 61
        }
      ]
    },
    {
      "cell_type": "code",
      "metadata": {
        "id": "FOohlhxo52xn"
      },
      "source": [
        "X_train = class1_data[:400] + class2_data[:400]\n",
        "y_train = [0]*400 + [1]*400\n",
        "assert len(X_train) == len(y_train)\n",
        "\n",
        "X_test = class1_data[400:] + class2_data[400:]\n",
        "y_test = [0]*100 + [1]*100\n",
        "assert len(X_test) == len(y_test)"
      ],
      "execution_count": null,
      "outputs": []
    },
    {
      "cell_type": "code",
      "metadata": {
        "id": "Z6bhEh486oeh"
      },
      "source": [
        "X_train = np.array(X_train)\n",
        "y_train = np.array(y_train)\n",
        "X_test = np.array(X_test)\n",
        "y_test = np.array(y_test)"
      ],
      "execution_count": null,
      "outputs": []
    },
    {
      "cell_type": "code",
      "metadata": {
        "id": "Zb5o14cx6tBo",
        "colab": {
          "base_uri": "https://localhost:8080/",
          "height": 34
        },
        "outputId": "c0832ee2-d09e-41d0-ffe0-135057d147ca"
      },
      "source": [
        "X_train.shape"
      ],
      "execution_count": null,
      "outputs": [
        {
          "output_type": "execute_result",
          "data": {
            "text/plain": [
              "(800, 128, 128)"
            ]
          },
          "metadata": {
            "tags": []
          },
          "execution_count": 22
        }
      ]
    },
    {
      "cell_type": "code",
      "metadata": {
        "id": "90Yj4eZp6uRW",
        "colab": {
          "base_uri": "https://localhost:8080/",
          "height": 368
        },
        "outputId": "8a855e35-9df3-4881-a242-0242a290e709"
      },
      "source": [
        "plt.imshow(class3_data[0])"
      ],
      "execution_count": null,
      "outputs": [
        {
          "output_type": "execute_result",
          "data": {
            "text/plain": [
              "<matplotlib.image.AxesImage at 0x7f6849293bd0>"
            ]
          },
          "metadata": {
            "tags": []
          },
          "execution_count": 124
        },
        {
          "output_type": "display_data",
          "data": {
            "image/png": "[encoded data removed]",
            "text/plain": [
              "<matplotlib.figure.Figure at 0x7f6849269d10>"
            ]
          },
          "metadata": {
            "tags": []
          }
        }
      ]
    },
    {
      "cell_type": "code",
      "metadata": {
        "id": "PW8xjQeAKS6x",
        "colab": {
          "base_uri": "https://localhost:8080/",
          "height": 34
        },
        "outputId": "ae85e76c-0dab-4588-cbf1-fcc5c16e5827"
      },
      "source": [
        "X = np.array(class1_data + class3_data)\n",
        "y = np.array([0]*500 + [1]*500)\n",
        "y = keras.utils.to_categorical(y, num_classes)\n",
        "\n",
        "X = X.reshape(X.shape[0], 262144)\n",
        "X/=255\n",
        "X.shape"
      ],
      "execution_count": null,
      "outputs": [
        {
          "output_type": "execute_result",
          "data": {
            "text/plain": [
              "(1000, 262144)"
            ]
          },
          "metadata": {
            "tags": []
          },
          "execution_count": 127
        }
      ]
    },
    {
      "cell_type": "code",
      "metadata": {
        "id": "sdo_bozGcCSH",
        "colab": {
          "base_uri": "https://localhost:8080/",
          "height": 368
        },
        "outputId": "5b2feaaa-594b-46fa-f5fd-a351b0da0ff6"
      },
      "source": [
        "plt.imshow(class1_data[-1])"
      ],
      "execution_count": null,
      "outputs": [
        {
          "output_type": "execute_result",
          "data": {
            "text/plain": [
              "<matplotlib.image.AxesImage at 0x7f684925b990>"
            ]
          },
          "metadata": {
            "tags": []
          },
          "execution_count": 123
        },
        {
          "output_type": "display_data",
          "data": {
            "image/png": "[encoded data removed]",
            "text/plain": [
              "<matplotlib.figure.Figure at 0x7f6849f92c90>"
            ]
          },
          "metadata": {
            "tags": []
          }
        }
      ]
    },
    {
      "cell_type": "code",
      "metadata": {
        "id": "8El4e75Ic4Yx"
      },
      "source": [
        ""
      ],
      "execution_count": null,
      "outputs": []
    }
  ]
}